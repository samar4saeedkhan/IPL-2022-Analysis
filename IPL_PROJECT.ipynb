{
  "nbformat": 4,
  "nbformat_minor": 0,
  "metadata": {
    "colab": {
      "name": "SAMAR_PYTHON_PROJECT.ipynb",
      "provenance": [],
      "collapsed_sections": []
    },
    "kernelspec": {
      "name": "python3",
      "display_name": "Python 3"
    },
    "language_info": {
      "name": "python"
    }
  },
  "cells": [
    {
      "cell_type": "markdown",
      "source": [
        "# MOUNTING GOOGLE DRIVE"
      ],
      "metadata": {
        "id": "nSWL8lr_DvZw"
      }
    },
    {
      "cell_type": "code",
      "source": [
        "from google.colab import drive\n",
        "drive.mount('/content/drive')"
      ],
      "metadata": {
        "colab": {
          "base_uri": "https://localhost:8080/"
        },
        "id": "-sTw4RSOBTii",
        "outputId": "93189aca-fe11-4dd3-d325-311fd0ac7952"
      },
      "execution_count": 1,
      "outputs": [
        {
          "output_type": "stream",
          "name": "stdout",
          "text": [
            "Mounted at /content/drive\n"
          ]
        }
      ]
    },
    {
      "cell_type": "markdown",
      "source": [
        "**IMPORT LIBRARIES**"
      ],
      "metadata": {
        "id": "H6F3NH8BFSnk"
      }
    },
    {
      "cell_type": "code",
      "source": [
        "import pandas as pd\n",
        "import numpy as np\n",
        "import matplotlib.pyplot as plt\n",
        "import seaborn as sns"
      ],
      "metadata": {
        "id": "GVtT97fJBVRE"
      },
      "execution_count": 2,
      "outputs": []
    },
    {
      "cell_type": "markdown",
      "source": [
        "**IMPORTING CSV DATASETS**"
      ],
      "metadata": {
        "id": "_TPjC88GGKkG"
      }
    },
    {
      "cell_type": "code",
      "source": [
        "matches_df=pd.read_csv(\"/content/drive/MyDrive/PYTHON-PROJECT CAPSULE/IPL_Matches_2022.csv\")"
      ],
      "metadata": {
        "id": "CxUDRbOBFcAY"
      },
      "execution_count": 3,
      "outputs": []
    },
    {
      "cell_type": "code",
      "source": [
        "ball_df=pd.read_csv(\"/content/drive/MyDrive/PYTHON-PROJECT CAPSULE/IPL_Ball_by_Ball_2022.csv\")"
      ],
      "metadata": {
        "id": "FwJRQaCFGIp9"
      },
      "execution_count": 4,
      "outputs": []
    },
    {
      "cell_type": "code",
      "source": [
        "match=pd.read_csv(\"/content/drive/MyDrive/PYTHON-PROJECT CAPSULE/matches.csv\")"
      ],
      "metadata": {
        "id": "MDyJFt0nH7oY"
      },
      "execution_count": 5,
      "outputs": []
    },
    {
      "cell_type": "markdown",
      "source": [
        "**READING DATAFRAME**"
      ],
      "metadata": {
        "id": "DEWgoCluGusf"
      }
    },
    {
      "cell_type": "code",
      "source": [
        "matches_df.head(5)"
      ],
      "metadata": {
        "colab": {
          "base_uri": "https://localhost:8080/",
          "height": 548
        },
        "id": "ODAksQicGWkP",
        "outputId": "8acd3fa8-eeec-4da7-9bd0-6e7770f92e84"
      },
      "execution_count": null,
      "outputs": [
        {
          "output_type": "execute_result",
          "data": {
            "text/plain": [
              "        ID         City        Date  Season  MatchNumber  \\\n",
              "0  1304105       Mumbai  2022-05-12    2022           59   \n",
              "1  1304104  Navi Mumbai  2022-05-11    2022           58   \n",
              "2  1304103         Pune  2022-05-10    2022           57   \n",
              "3  1304102  Navi Mumbai  2022-05-09    2022           56   \n",
              "4  1304101  Navi Mumbai  2022-05-08    2022           55   \n",
              "\n",
              "                   Team1                 Team2  \\\n",
              "0    Chennai Super Kings        Mumbai Indians   \n",
              "1       Rajasthan Royals        Delhi Capitals   \n",
              "2         Gujarat Titans  Lucknow Super Giants   \n",
              "3  Kolkata Knight Riders        Mumbai Indians   \n",
              "4    Chennai Super Kings        Delhi Capitals   \n",
              "\n",
              "                                           Venue      TossWinner TossDecision  \\\n",
              "0                       Wankhede Stadium, Mumbai  Mumbai Indians        field   \n",
              "1             Dr DY Patil Sports Academy, Mumbai  Delhi Capitals        field   \n",
              "2  Maharashtra Cricket Association Stadium, Pune  Gujarat Titans          bat   \n",
              "3             Dr DY Patil Sports Academy, Mumbai  Mumbai Indians        field   \n",
              "4             Dr DY Patil Sports Academy, Mumbai  Delhi Capitals        field   \n",
              "\n",
              "  SuperOver            WinningTeam    WonBy  Margin  method Player_of_Match  \\\n",
              "0         N         Mumbai Indians  Wickets       5     NaN         DR Sams   \n",
              "1         N         Delhi Capitals  Wickets       8     NaN        MR Marsh   \n",
              "2         N         Gujarat Titans     Runs      62     NaN    Shubman Gill   \n",
              "3         N  Kolkata Knight Riders     Runs      52     NaN       JJ Bumrah   \n",
              "4         N    Chennai Super Kings     Runs      91     NaN       DP Conway   \n",
              "\n",
              "                                        Team1Players  \\\n",
              "0  ['RD Gaikwad', 'DP Conway', 'MM Ali', 'RV Utha...   \n",
              "1  ['YBK Jaiswal', 'JC Buttler', 'R Ashwin', 'D P...   \n",
              "2  ['WP Saha', 'Shubman Gill', 'MS Wade', 'HH Pan...   \n",
              "3  ['VR Iyer', 'AM Rahane', 'N Rana', 'SS Iyer', ...   \n",
              "4  ['RD Gaikwad', 'DP Conway', 'S Dube', 'AT Rayu...   \n",
              "\n",
              "                                        Team2Players                Umpire1  \\\n",
              "0  ['Ishan Kishan', 'RG Sharma', 'DR Sams', 'Tila...  Chirra Ravikanthreddy   \n",
              "1  ['KS Bharat', 'DA Warner', 'MR Marsh', 'RR Pan...          NA Patwardhan   \n",
              "2  ['Q de Kock', 'KL Rahul', 'DJ Hooda', 'KS Shar...  KN Ananthapadmanabhan   \n",
              "3  ['RG Sharma', 'Ishan Kishan', 'Tilak Varma', '...            CB Gaffaney   \n",
              "4  ['DA Warner', 'KS Bharat', 'MR Marsh', 'RR Pan...            Nitin Menon   \n",
              "\n",
              "            Umpire2  \n",
              "0       CB Gaffaney  \n",
              "1       Nitin Menon  \n",
              "2          MA Gough  \n",
              "3  GR Sadashiv Iyer  \n",
              "4          R Pandit  "
            ],
            "text/html": [
              "\n",
              "  <div id=\"df-7973fc10-206f-4885-8133-27c36820f733\">\n",
              "    <div class=\"colab-df-container\">\n",
              "      <div>\n",
              "<style scoped>\n",
              "    .dataframe tbody tr th:only-of-type {\n",
              "        vertical-align: middle;\n",
              "    }\n",
              "\n",
              "    .dataframe tbody tr th {\n",
              "        vertical-align: top;\n",
              "    }\n",
              "\n",
              "    .dataframe thead th {\n",
              "        text-align: right;\n",
              "    }\n",
              "</style>\n",
              "<table border=\"1\" class=\"dataframe\">\n",
              "  <thead>\n",
              "    <tr style=\"text-align: right;\">\n",
              "      <th></th>\n",
              "      <th>ID</th>\n",
              "      <th>City</th>\n",
              "      <th>Date</th>\n",
              "      <th>Season</th>\n",
              "      <th>MatchNumber</th>\n",
              "      <th>Team1</th>\n",
              "      <th>Team2</th>\n",
              "      <th>Venue</th>\n",
              "      <th>TossWinner</th>\n",
              "      <th>TossDecision</th>\n",
              "      <th>SuperOver</th>\n",
              "      <th>WinningTeam</th>\n",
              "      <th>WonBy</th>\n",
              "      <th>Margin</th>\n",
              "      <th>method</th>\n",
              "      <th>Player_of_Match</th>\n",
              "      <th>Team1Players</th>\n",
              "      <th>Team2Players</th>\n",
              "      <th>Umpire1</th>\n",
              "      <th>Umpire2</th>\n",
              "    </tr>\n",
              "  </thead>\n",
              "  <tbody>\n",
              "    <tr>\n",
              "      <th>0</th>\n",
              "      <td>1304105</td>\n",
              "      <td>Mumbai</td>\n",
              "      <td>2022-05-12</td>\n",
              "      <td>2022</td>\n",
              "      <td>59</td>\n",
              "      <td>Chennai Super Kings</td>\n",
              "      <td>Mumbai Indians</td>\n",
              "      <td>Wankhede Stadium, Mumbai</td>\n",
              "      <td>Mumbai Indians</td>\n",
              "      <td>field</td>\n",
              "      <td>N</td>\n",
              "      <td>Mumbai Indians</td>\n",
              "      <td>Wickets</td>\n",
              "      <td>5</td>\n",
              "      <td>NaN</td>\n",
              "      <td>DR Sams</td>\n",
              "      <td>['RD Gaikwad', 'DP Conway', 'MM Ali', 'RV Utha...</td>\n",
              "      <td>['Ishan Kishan', 'RG Sharma', 'DR Sams', 'Tila...</td>\n",
              "      <td>Chirra Ravikanthreddy</td>\n",
              "      <td>CB Gaffaney</td>\n",
              "    </tr>\n",
              "    <tr>\n",
              "      <th>1</th>\n",
              "      <td>1304104</td>\n",
              "      <td>Navi Mumbai</td>\n",
              "      <td>2022-05-11</td>\n",
              "      <td>2022</td>\n",
              "      <td>58</td>\n",
              "      <td>Rajasthan Royals</td>\n",
              "      <td>Delhi Capitals</td>\n",
              "      <td>Dr DY Patil Sports Academy, Mumbai</td>\n",
              "      <td>Delhi Capitals</td>\n",
              "      <td>field</td>\n",
              "      <td>N</td>\n",
              "      <td>Delhi Capitals</td>\n",
              "      <td>Wickets</td>\n",
              "      <td>8</td>\n",
              "      <td>NaN</td>\n",
              "      <td>MR Marsh</td>\n",
              "      <td>['YBK Jaiswal', 'JC Buttler', 'R Ashwin', 'D P...</td>\n",
              "      <td>['KS Bharat', 'DA Warner', 'MR Marsh', 'RR Pan...</td>\n",
              "      <td>NA Patwardhan</td>\n",
              "      <td>Nitin Menon</td>\n",
              "    </tr>\n",
              "    <tr>\n",
              "      <th>2</th>\n",
              "      <td>1304103</td>\n",
              "      <td>Pune</td>\n",
              "      <td>2022-05-10</td>\n",
              "      <td>2022</td>\n",
              "      <td>57</td>\n",
              "      <td>Gujarat Titans</td>\n",
              "      <td>Lucknow Super Giants</td>\n",
              "      <td>Maharashtra Cricket Association Stadium, Pune</td>\n",
              "      <td>Gujarat Titans</td>\n",
              "      <td>bat</td>\n",
              "      <td>N</td>\n",
              "      <td>Gujarat Titans</td>\n",
              "      <td>Runs</td>\n",
              "      <td>62</td>\n",
              "      <td>NaN</td>\n",
              "      <td>Shubman Gill</td>\n",
              "      <td>['WP Saha', 'Shubman Gill', 'MS Wade', 'HH Pan...</td>\n",
              "      <td>['Q de Kock', 'KL Rahul', 'DJ Hooda', 'KS Shar...</td>\n",
              "      <td>KN Ananthapadmanabhan</td>\n",
              "      <td>MA Gough</td>\n",
              "    </tr>\n",
              "    <tr>\n",
              "      <th>3</th>\n",
              "      <td>1304102</td>\n",
              "      <td>Navi Mumbai</td>\n",
              "      <td>2022-05-09</td>\n",
              "      <td>2022</td>\n",
              "      <td>56</td>\n",
              "      <td>Kolkata Knight Riders</td>\n",
              "      <td>Mumbai Indians</td>\n",
              "      <td>Dr DY Patil Sports Academy, Mumbai</td>\n",
              "      <td>Mumbai Indians</td>\n",
              "      <td>field</td>\n",
              "      <td>N</td>\n",
              "      <td>Kolkata Knight Riders</td>\n",
              "      <td>Runs</td>\n",
              "      <td>52</td>\n",
              "      <td>NaN</td>\n",
              "      <td>JJ Bumrah</td>\n",
              "      <td>['VR Iyer', 'AM Rahane', 'N Rana', 'SS Iyer', ...</td>\n",
              "      <td>['RG Sharma', 'Ishan Kishan', 'Tilak Varma', '...</td>\n",
              "      <td>CB Gaffaney</td>\n",
              "      <td>GR Sadashiv Iyer</td>\n",
              "    </tr>\n",
              "    <tr>\n",
              "      <th>4</th>\n",
              "      <td>1304101</td>\n",
              "      <td>Navi Mumbai</td>\n",
              "      <td>2022-05-08</td>\n",
              "      <td>2022</td>\n",
              "      <td>55</td>\n",
              "      <td>Chennai Super Kings</td>\n",
              "      <td>Delhi Capitals</td>\n",
              "      <td>Dr DY Patil Sports Academy, Mumbai</td>\n",
              "      <td>Delhi Capitals</td>\n",
              "      <td>field</td>\n",
              "      <td>N</td>\n",
              "      <td>Chennai Super Kings</td>\n",
              "      <td>Runs</td>\n",
              "      <td>91</td>\n",
              "      <td>NaN</td>\n",
              "      <td>DP Conway</td>\n",
              "      <td>['RD Gaikwad', 'DP Conway', 'S Dube', 'AT Rayu...</td>\n",
              "      <td>['DA Warner', 'KS Bharat', 'MR Marsh', 'RR Pan...</td>\n",
              "      <td>Nitin Menon</td>\n",
              "      <td>R Pandit</td>\n",
              "    </tr>\n",
              "  </tbody>\n",
              "</table>\n",
              "</div>\n",
              "      <button class=\"colab-df-convert\" onclick=\"convertToInteractive('df-7973fc10-206f-4885-8133-27c36820f733')\"\n",
              "              title=\"Convert this dataframe to an interactive table.\"\n",
              "              style=\"display:none;\">\n",
              "        \n",
              "  <svg xmlns=\"http://www.w3.org/2000/svg\" height=\"24px\"viewBox=\"0 0 24 24\"\n",
              "       width=\"24px\">\n",
              "    <path d=\"M0 0h24v24H0V0z\" fill=\"none\"/>\n",
              "    <path d=\"M18.56 5.44l.94 2.06.94-2.06 2.06-.94-2.06-.94-.94-2.06-.94 2.06-2.06.94zm-11 1L8.5 8.5l.94-2.06 2.06-.94-2.06-.94L8.5 2.5l-.94 2.06-2.06.94zm10 10l.94 2.06.94-2.06 2.06-.94-2.06-.94-.94-2.06-.94 2.06-2.06.94z\"/><path d=\"M17.41 7.96l-1.37-1.37c-.4-.4-.92-.59-1.43-.59-.52 0-1.04.2-1.43.59L10.3 9.45l-7.72 7.72c-.78.78-.78 2.05 0 2.83L4 21.41c.39.39.9.59 1.41.59.51 0 1.02-.2 1.41-.59l7.78-7.78 2.81-2.81c.8-.78.8-2.07 0-2.86zM5.41 20L4 18.59l7.72-7.72 1.47 1.35L5.41 20z\"/>\n",
              "  </svg>\n",
              "      </button>\n",
              "      \n",
              "  <style>\n",
              "    .colab-df-container {\n",
              "      display:flex;\n",
              "      flex-wrap:wrap;\n",
              "      gap: 12px;\n",
              "    }\n",
              "\n",
              "    .colab-df-convert {\n",
              "      background-color: #E8F0FE;\n",
              "      border: none;\n",
              "      border-radius: 50%;\n",
              "      cursor: pointer;\n",
              "      display: none;\n",
              "      fill: #1967D2;\n",
              "      height: 32px;\n",
              "      padding: 0 0 0 0;\n",
              "      width: 32px;\n",
              "    }\n",
              "\n",
              "    .colab-df-convert:hover {\n",
              "      background-color: #E2EBFA;\n",
              "      box-shadow: 0px 1px 2px rgba(60, 64, 67, 0.3), 0px 1px 3px 1px rgba(60, 64, 67, 0.15);\n",
              "      fill: #174EA6;\n",
              "    }\n",
              "\n",
              "    [theme=dark] .colab-df-convert {\n",
              "      background-color: #3B4455;\n",
              "      fill: #D2E3FC;\n",
              "    }\n",
              "\n",
              "    [theme=dark] .colab-df-convert:hover {\n",
              "      background-color: #434B5C;\n",
              "      box-shadow: 0px 1px 3px 1px rgba(0, 0, 0, 0.15);\n",
              "      filter: drop-shadow(0px 1px 2px rgba(0, 0, 0, 0.3));\n",
              "      fill: #FFFFFF;\n",
              "    }\n",
              "  </style>\n",
              "\n",
              "      <script>\n",
              "        const buttonEl =\n",
              "          document.querySelector('#df-7973fc10-206f-4885-8133-27c36820f733 button.colab-df-convert');\n",
              "        buttonEl.style.display =\n",
              "          google.colab.kernel.accessAllowed ? 'block' : 'none';\n",
              "\n",
              "        async function convertToInteractive(key) {\n",
              "          const element = document.querySelector('#df-7973fc10-206f-4885-8133-27c36820f733');\n",
              "          const dataTable =\n",
              "            await google.colab.kernel.invokeFunction('convertToInteractive',\n",
              "                                                     [key], {});\n",
              "          if (!dataTable) return;\n",
              "\n",
              "          const docLinkHtml = 'Like what you see? Visit the ' +\n",
              "            '<a target=\"_blank\" href=https://colab.research.google.com/notebooks/data_table.ipynb>data table notebook</a>'\n",
              "            + ' to learn more about interactive tables.';\n",
              "          element.innerHTML = '';\n",
              "          dataTable['output_type'] = 'display_data';\n",
              "          await google.colab.output.renderOutput(dataTable, element);\n",
              "          const docLink = document.createElement('div');\n",
              "          docLink.innerHTML = docLinkHtml;\n",
              "          element.appendChild(docLink);\n",
              "        }\n",
              "      </script>\n",
              "    </div>\n",
              "  </div>\n",
              "  "
            ]
          },
          "metadata": {},
          "execution_count": 12
        }
      ]
    },
    {
      "cell_type": "code",
      "source": [
        "ball_df.head(5)"
      ],
      "metadata": {
        "colab": {
          "base_uri": "https://localhost:8080/",
          "height": 374
        },
        "id": "r72DflVIG5C7",
        "outputId": "a99bf664-e249-4b15-e5b2-5f9d987043ac"
      },
      "execution_count": null,
      "outputs": [
        {
          "output_type": "execute_result",
          "data": {
            "text/plain": [
              "        ID  innings  overs  ballnumber      batter   bowler non-striker  \\\n",
              "0  1304105        1      0           1  RD Gaikwad  DR Sams   DP Conway   \n",
              "1  1304105        1      0           2   DP Conway  DR Sams  RD Gaikwad   \n",
              "2  1304105        1      0           3      MM Ali  DR Sams  RD Gaikwad   \n",
              "3  1304105        1      0           4      MM Ali  DR Sams  RD Gaikwad   \n",
              "4  1304105        1      0           5      MM Ali  DR Sams  RD Gaikwad   \n",
              "\n",
              "  extra_type  batsman_run  extras_run  total_run  non_boundary  \\\n",
              "0        NaN            1           0          1             0   \n",
              "1        NaN            0           0          0             0   \n",
              "2        NaN            0           0          0             0   \n",
              "3      wides            0           1          1             0   \n",
              "4        NaN            0           0          0             0   \n",
              "\n",
              "   isWicketDelivery player_out    kind fielders_involved          BattingTeam  \n",
              "0                 0        NaN     NaN               NaN  Chennai Super Kings  \n",
              "1                 1  DP Conway     lbw               NaN  Chennai Super Kings  \n",
              "2                 0        NaN     NaN               NaN  Chennai Super Kings  \n",
              "3                 0        NaN     NaN               NaN  Chennai Super Kings  \n",
              "4                 1     MM Ali  caught        HR Shokeen  Chennai Super Kings  "
            ],
            "text/html": [
              "\n",
              "  <div id=\"df-2a71034e-3f6a-4056-a609-135d3cd80bcc\">\n",
              "    <div class=\"colab-df-container\">\n",
              "      <div>\n",
              "<style scoped>\n",
              "    .dataframe tbody tr th:only-of-type {\n",
              "        vertical-align: middle;\n",
              "    }\n",
              "\n",
              "    .dataframe tbody tr th {\n",
              "        vertical-align: top;\n",
              "    }\n",
              "\n",
              "    .dataframe thead th {\n",
              "        text-align: right;\n",
              "    }\n",
              "</style>\n",
              "<table border=\"1\" class=\"dataframe\">\n",
              "  <thead>\n",
              "    <tr style=\"text-align: right;\">\n",
              "      <th></th>\n",
              "      <th>ID</th>\n",
              "      <th>innings</th>\n",
              "      <th>overs</th>\n",
              "      <th>ballnumber</th>\n",
              "      <th>batter</th>\n",
              "      <th>bowler</th>\n",
              "      <th>non-striker</th>\n",
              "      <th>extra_type</th>\n",
              "      <th>batsman_run</th>\n",
              "      <th>extras_run</th>\n",
              "      <th>total_run</th>\n",
              "      <th>non_boundary</th>\n",
              "      <th>isWicketDelivery</th>\n",
              "      <th>player_out</th>\n",
              "      <th>kind</th>\n",
              "      <th>fielders_involved</th>\n",
              "      <th>BattingTeam</th>\n",
              "    </tr>\n",
              "  </thead>\n",
              "  <tbody>\n",
              "    <tr>\n",
              "      <th>0</th>\n",
              "      <td>1304105</td>\n",
              "      <td>1</td>\n",
              "      <td>0</td>\n",
              "      <td>1</td>\n",
              "      <td>RD Gaikwad</td>\n",
              "      <td>DR Sams</td>\n",
              "      <td>DP Conway</td>\n",
              "      <td>NaN</td>\n",
              "      <td>1</td>\n",
              "      <td>0</td>\n",
              "      <td>1</td>\n",
              "      <td>0</td>\n",
              "      <td>0</td>\n",
              "      <td>NaN</td>\n",
              "      <td>NaN</td>\n",
              "      <td>NaN</td>\n",
              "      <td>Chennai Super Kings</td>\n",
              "    </tr>\n",
              "    <tr>\n",
              "      <th>1</th>\n",
              "      <td>1304105</td>\n",
              "      <td>1</td>\n",
              "      <td>0</td>\n",
              "      <td>2</td>\n",
              "      <td>DP Conway</td>\n",
              "      <td>DR Sams</td>\n",
              "      <td>RD Gaikwad</td>\n",
              "      <td>NaN</td>\n",
              "      <td>0</td>\n",
              "      <td>0</td>\n",
              "      <td>0</td>\n",
              "      <td>0</td>\n",
              "      <td>1</td>\n",
              "      <td>DP Conway</td>\n",
              "      <td>lbw</td>\n",
              "      <td>NaN</td>\n",
              "      <td>Chennai Super Kings</td>\n",
              "    </tr>\n",
              "    <tr>\n",
              "      <th>2</th>\n",
              "      <td>1304105</td>\n",
              "      <td>1</td>\n",
              "      <td>0</td>\n",
              "      <td>3</td>\n",
              "      <td>MM Ali</td>\n",
              "      <td>DR Sams</td>\n",
              "      <td>RD Gaikwad</td>\n",
              "      <td>NaN</td>\n",
              "      <td>0</td>\n",
              "      <td>0</td>\n",
              "      <td>0</td>\n",
              "      <td>0</td>\n",
              "      <td>0</td>\n",
              "      <td>NaN</td>\n",
              "      <td>NaN</td>\n",
              "      <td>NaN</td>\n",
              "      <td>Chennai Super Kings</td>\n",
              "    </tr>\n",
              "    <tr>\n",
              "      <th>3</th>\n",
              "      <td>1304105</td>\n",
              "      <td>1</td>\n",
              "      <td>0</td>\n",
              "      <td>4</td>\n",
              "      <td>MM Ali</td>\n",
              "      <td>DR Sams</td>\n",
              "      <td>RD Gaikwad</td>\n",
              "      <td>wides</td>\n",
              "      <td>0</td>\n",
              "      <td>1</td>\n",
              "      <td>1</td>\n",
              "      <td>0</td>\n",
              "      <td>0</td>\n",
              "      <td>NaN</td>\n",
              "      <td>NaN</td>\n",
              "      <td>NaN</td>\n",
              "      <td>Chennai Super Kings</td>\n",
              "    </tr>\n",
              "    <tr>\n",
              "      <th>4</th>\n",
              "      <td>1304105</td>\n",
              "      <td>1</td>\n",
              "      <td>0</td>\n",
              "      <td>5</td>\n",
              "      <td>MM Ali</td>\n",
              "      <td>DR Sams</td>\n",
              "      <td>RD Gaikwad</td>\n",
              "      <td>NaN</td>\n",
              "      <td>0</td>\n",
              "      <td>0</td>\n",
              "      <td>0</td>\n",
              "      <td>0</td>\n",
              "      <td>1</td>\n",
              "      <td>MM Ali</td>\n",
              "      <td>caught</td>\n",
              "      <td>HR Shokeen</td>\n",
              "      <td>Chennai Super Kings</td>\n",
              "    </tr>\n",
              "  </tbody>\n",
              "</table>\n",
              "</div>\n",
              "      <button class=\"colab-df-convert\" onclick=\"convertToInteractive('df-2a71034e-3f6a-4056-a609-135d3cd80bcc')\"\n",
              "              title=\"Convert this dataframe to an interactive table.\"\n",
              "              style=\"display:none;\">\n",
              "        \n",
              "  <svg xmlns=\"http://www.w3.org/2000/svg\" height=\"24px\"viewBox=\"0 0 24 24\"\n",
              "       width=\"24px\">\n",
              "    <path d=\"M0 0h24v24H0V0z\" fill=\"none\"/>\n",
              "    <path d=\"M18.56 5.44l.94 2.06.94-2.06 2.06-.94-2.06-.94-.94-2.06-.94 2.06-2.06.94zm-11 1L8.5 8.5l.94-2.06 2.06-.94-2.06-.94L8.5 2.5l-.94 2.06-2.06.94zm10 10l.94 2.06.94-2.06 2.06-.94-2.06-.94-.94-2.06-.94 2.06-2.06.94z\"/><path d=\"M17.41 7.96l-1.37-1.37c-.4-.4-.92-.59-1.43-.59-.52 0-1.04.2-1.43.59L10.3 9.45l-7.72 7.72c-.78.78-.78 2.05 0 2.83L4 21.41c.39.39.9.59 1.41.59.51 0 1.02-.2 1.41-.59l7.78-7.78 2.81-2.81c.8-.78.8-2.07 0-2.86zM5.41 20L4 18.59l7.72-7.72 1.47 1.35L5.41 20z\"/>\n",
              "  </svg>\n",
              "      </button>\n",
              "      \n",
              "  <style>\n",
              "    .colab-df-container {\n",
              "      display:flex;\n",
              "      flex-wrap:wrap;\n",
              "      gap: 12px;\n",
              "    }\n",
              "\n",
              "    .colab-df-convert {\n",
              "      background-color: #E8F0FE;\n",
              "      border: none;\n",
              "      border-radius: 50%;\n",
              "      cursor: pointer;\n",
              "      display: none;\n",
              "      fill: #1967D2;\n",
              "      height: 32px;\n",
              "      padding: 0 0 0 0;\n",
              "      width: 32px;\n",
              "    }\n",
              "\n",
              "    .colab-df-convert:hover {\n",
              "      background-color: #E2EBFA;\n",
              "      box-shadow: 0px 1px 2px rgba(60, 64, 67, 0.3), 0px 1px 3px 1px rgba(60, 64, 67, 0.15);\n",
              "      fill: #174EA6;\n",
              "    }\n",
              "\n",
              "    [theme=dark] .colab-df-convert {\n",
              "      background-color: #3B4455;\n",
              "      fill: #D2E3FC;\n",
              "    }\n",
              "\n",
              "    [theme=dark] .colab-df-convert:hover {\n",
              "      background-color: #434B5C;\n",
              "      box-shadow: 0px 1px 3px 1px rgba(0, 0, 0, 0.15);\n",
              "      filter: drop-shadow(0px 1px 2px rgba(0, 0, 0, 0.3));\n",
              "      fill: #FFFFFF;\n",
              "    }\n",
              "  </style>\n",
              "\n",
              "      <script>\n",
              "        const buttonEl =\n",
              "          document.querySelector('#df-2a71034e-3f6a-4056-a609-135d3cd80bcc button.colab-df-convert');\n",
              "        buttonEl.style.display =\n",
              "          google.colab.kernel.accessAllowed ? 'block' : 'none';\n",
              "\n",
              "        async function convertToInteractive(key) {\n",
              "          const element = document.querySelector('#df-2a71034e-3f6a-4056-a609-135d3cd80bcc');\n",
              "          const dataTable =\n",
              "            await google.colab.kernel.invokeFunction('convertToInteractive',\n",
              "                                                     [key], {});\n",
              "          if (!dataTable) return;\n",
              "\n",
              "          const docLinkHtml = 'Like what you see? Visit the ' +\n",
              "            '<a target=\"_blank\" href=https://colab.research.google.com/notebooks/data_table.ipynb>data table notebook</a>'\n",
              "            + ' to learn more about interactive tables.';\n",
              "          element.innerHTML = '';\n",
              "          dataTable['output_type'] = 'display_data';\n",
              "          await google.colab.output.renderOutput(dataTable, element);\n",
              "          const docLink = document.createElement('div');\n",
              "          docLink.innerHTML = docLinkHtml;\n",
              "          element.appendChild(docLink);\n",
              "        }\n",
              "      </script>\n",
              "    </div>\n",
              "  </div>\n",
              "  "
            ]
          },
          "metadata": {},
          "execution_count": 13
        }
      ]
    },
    {
      "cell_type": "code",
      "source": [
        "match.head(5)"
      ],
      "metadata": {
        "colab": {
          "base_uri": "https://localhost:8080/",
          "height": 478
        },
        "id": "jGT31NwnIfiN",
        "outputId": "51b24ab9-86a3-423d-f0f9-81c69742c751"
      },
      "execution_count": null,
      "outputs": [
        {
          "output_type": "execute_result",
          "data": {
            "text/plain": [
              "   match_id           date                                         venue  \\\n",
              "0         1  March 26,2022                      Wankhede Stadium, Mumbai   \n",
              "1         2  March 27,2022                     Brabourne Stadium, Mumbai   \n",
              "2         3  March 27,2022            Dr DY Patil Sports Academy, Mumbai   \n",
              "3         4  March 28,2022                      Wankhede Stadium, Mumbai   \n",
              "4         5  March 29,2022  Maharashtra Cricket Association Stadium,Pune   \n",
              "\n",
              "       team1      team2  stage toss_winner toss_decision  first_ings_score  \\\n",
              "0    Chennai    Kolkata  Group     Kolkata         Field               131   \n",
              "1      Delhi     Mumbai  Group       Delhi         Field               177   \n",
              "2   Banglore     Punjab  Group      Punjab         Field               205   \n",
              "3    Gujarat    Lucknow  Group     Gujarat         Field               158   \n",
              "4  Hyderabad  Rajasthan  Group   Hyderabad         Field               210   \n",
              "\n",
              "   first_ings_wkts  second_ings_score  second_ings_wkts match_winner   won_by  \\\n",
              "0                5                133                 4      Kolkata  Wickets   \n",
              "1                5                179                 6        Delhi  Wickets   \n",
              "2                2                208                 5       Punjab  Wickets   \n",
              "3                6                161                 5      Gujarat  Wickets   \n",
              "4                6                149                 7    Rajasthan     Runs   \n",
              "\n",
              "   margin player_of_the_match      top_scorer  highscore      best_bowling  \\\n",
              "0       6         Umesh Yadav        MS Dhoni         50      Dwayne Bravo   \n",
              "1       4       Kuldeep Yadav    Ishan Kishan         81     Kuldeep Yadav   \n",
              "2       5         Odean Smith  Faf du Plessis         88    Mohammed Siraj   \n",
              "3       5      Mohammed Shami    Deepak Hooda         55    Mohammed Shami   \n",
              "4      61        Sanju Samson   Aiden Markram         57  Yuzvendra Chahal   \n",
              "\n",
              "  best_bowling_figure  \n",
              "0               3--20  \n",
              "1               3--18  \n",
              "2               2--59  \n",
              "3               3--25  \n",
              "4               3--22  "
            ],
            "text/html": [
              "\n",
              "  <div id=\"df-41bf50dc-87b0-46e8-b06d-789fc2ba78cc\">\n",
              "    <div class=\"colab-df-container\">\n",
              "      <div>\n",
              "<style scoped>\n",
              "    .dataframe tbody tr th:only-of-type {\n",
              "        vertical-align: middle;\n",
              "    }\n",
              "\n",
              "    .dataframe tbody tr th {\n",
              "        vertical-align: top;\n",
              "    }\n",
              "\n",
              "    .dataframe thead th {\n",
              "        text-align: right;\n",
              "    }\n",
              "</style>\n",
              "<table border=\"1\" class=\"dataframe\">\n",
              "  <thead>\n",
              "    <tr style=\"text-align: right;\">\n",
              "      <th></th>\n",
              "      <th>match_id</th>\n",
              "      <th>date</th>\n",
              "      <th>venue</th>\n",
              "      <th>team1</th>\n",
              "      <th>team2</th>\n",
              "      <th>stage</th>\n",
              "      <th>toss_winner</th>\n",
              "      <th>toss_decision</th>\n",
              "      <th>first_ings_score</th>\n",
              "      <th>first_ings_wkts</th>\n",
              "      <th>second_ings_score</th>\n",
              "      <th>second_ings_wkts</th>\n",
              "      <th>match_winner</th>\n",
              "      <th>won_by</th>\n",
              "      <th>margin</th>\n",
              "      <th>player_of_the_match</th>\n",
              "      <th>top_scorer</th>\n",
              "      <th>highscore</th>\n",
              "      <th>best_bowling</th>\n",
              "      <th>best_bowling_figure</th>\n",
              "    </tr>\n",
              "  </thead>\n",
              "  <tbody>\n",
              "    <tr>\n",
              "      <th>0</th>\n",
              "      <td>1</td>\n",
              "      <td>March 26,2022</td>\n",
              "      <td>Wankhede Stadium, Mumbai</td>\n",
              "      <td>Chennai</td>\n",
              "      <td>Kolkata</td>\n",
              "      <td>Group</td>\n",
              "      <td>Kolkata</td>\n",
              "      <td>Field</td>\n",
              "      <td>131</td>\n",
              "      <td>5</td>\n",
              "      <td>133</td>\n",
              "      <td>4</td>\n",
              "      <td>Kolkata</td>\n",
              "      <td>Wickets</td>\n",
              "      <td>6</td>\n",
              "      <td>Umesh Yadav</td>\n",
              "      <td>MS Dhoni</td>\n",
              "      <td>50</td>\n",
              "      <td>Dwayne Bravo</td>\n",
              "      <td>3--20</td>\n",
              "    </tr>\n",
              "    <tr>\n",
              "      <th>1</th>\n",
              "      <td>2</td>\n",
              "      <td>March 27,2022</td>\n",
              "      <td>Brabourne Stadium, Mumbai</td>\n",
              "      <td>Delhi</td>\n",
              "      <td>Mumbai</td>\n",
              "      <td>Group</td>\n",
              "      <td>Delhi</td>\n",
              "      <td>Field</td>\n",
              "      <td>177</td>\n",
              "      <td>5</td>\n",
              "      <td>179</td>\n",
              "      <td>6</td>\n",
              "      <td>Delhi</td>\n",
              "      <td>Wickets</td>\n",
              "      <td>4</td>\n",
              "      <td>Kuldeep Yadav</td>\n",
              "      <td>Ishan Kishan</td>\n",
              "      <td>81</td>\n",
              "      <td>Kuldeep Yadav</td>\n",
              "      <td>3--18</td>\n",
              "    </tr>\n",
              "    <tr>\n",
              "      <th>2</th>\n",
              "      <td>3</td>\n",
              "      <td>March 27,2022</td>\n",
              "      <td>Dr DY Patil Sports Academy, Mumbai</td>\n",
              "      <td>Banglore</td>\n",
              "      <td>Punjab</td>\n",
              "      <td>Group</td>\n",
              "      <td>Punjab</td>\n",
              "      <td>Field</td>\n",
              "      <td>205</td>\n",
              "      <td>2</td>\n",
              "      <td>208</td>\n",
              "      <td>5</td>\n",
              "      <td>Punjab</td>\n",
              "      <td>Wickets</td>\n",
              "      <td>5</td>\n",
              "      <td>Odean Smith</td>\n",
              "      <td>Faf du Plessis</td>\n",
              "      <td>88</td>\n",
              "      <td>Mohammed Siraj</td>\n",
              "      <td>2--59</td>\n",
              "    </tr>\n",
              "    <tr>\n",
              "      <th>3</th>\n",
              "      <td>4</td>\n",
              "      <td>March 28,2022</td>\n",
              "      <td>Wankhede Stadium, Mumbai</td>\n",
              "      <td>Gujarat</td>\n",
              "      <td>Lucknow</td>\n",
              "      <td>Group</td>\n",
              "      <td>Gujarat</td>\n",
              "      <td>Field</td>\n",
              "      <td>158</td>\n",
              "      <td>6</td>\n",
              "      <td>161</td>\n",
              "      <td>5</td>\n",
              "      <td>Gujarat</td>\n",
              "      <td>Wickets</td>\n",
              "      <td>5</td>\n",
              "      <td>Mohammed Shami</td>\n",
              "      <td>Deepak Hooda</td>\n",
              "      <td>55</td>\n",
              "      <td>Mohammed Shami</td>\n",
              "      <td>3--25</td>\n",
              "    </tr>\n",
              "    <tr>\n",
              "      <th>4</th>\n",
              "      <td>5</td>\n",
              "      <td>March 29,2022</td>\n",
              "      <td>Maharashtra Cricket Association Stadium,Pune</td>\n",
              "      <td>Hyderabad</td>\n",
              "      <td>Rajasthan</td>\n",
              "      <td>Group</td>\n",
              "      <td>Hyderabad</td>\n",
              "      <td>Field</td>\n",
              "      <td>210</td>\n",
              "      <td>6</td>\n",
              "      <td>149</td>\n",
              "      <td>7</td>\n",
              "      <td>Rajasthan</td>\n",
              "      <td>Runs</td>\n",
              "      <td>61</td>\n",
              "      <td>Sanju Samson</td>\n",
              "      <td>Aiden Markram</td>\n",
              "      <td>57</td>\n",
              "      <td>Yuzvendra Chahal</td>\n",
              "      <td>3--22</td>\n",
              "    </tr>\n",
              "  </tbody>\n",
              "</table>\n",
              "</div>\n",
              "      <button class=\"colab-df-convert\" onclick=\"convertToInteractive('df-41bf50dc-87b0-46e8-b06d-789fc2ba78cc')\"\n",
              "              title=\"Convert this dataframe to an interactive table.\"\n",
              "              style=\"display:none;\">\n",
              "        \n",
              "  <svg xmlns=\"http://www.w3.org/2000/svg\" height=\"24px\"viewBox=\"0 0 24 24\"\n",
              "       width=\"24px\">\n",
              "    <path d=\"M0 0h24v24H0V0z\" fill=\"none\"/>\n",
              "    <path d=\"M18.56 5.44l.94 2.06.94-2.06 2.06-.94-2.06-.94-.94-2.06-.94 2.06-2.06.94zm-11 1L8.5 8.5l.94-2.06 2.06-.94-2.06-.94L8.5 2.5l-.94 2.06-2.06.94zm10 10l.94 2.06.94-2.06 2.06-.94-2.06-.94-.94-2.06-.94 2.06-2.06.94z\"/><path d=\"M17.41 7.96l-1.37-1.37c-.4-.4-.92-.59-1.43-.59-.52 0-1.04.2-1.43.59L10.3 9.45l-7.72 7.72c-.78.78-.78 2.05 0 2.83L4 21.41c.39.39.9.59 1.41.59.51 0 1.02-.2 1.41-.59l7.78-7.78 2.81-2.81c.8-.78.8-2.07 0-2.86zM5.41 20L4 18.59l7.72-7.72 1.47 1.35L5.41 20z\"/>\n",
              "  </svg>\n",
              "      </button>\n",
              "      \n",
              "  <style>\n",
              "    .colab-df-container {\n",
              "      display:flex;\n",
              "      flex-wrap:wrap;\n",
              "      gap: 12px;\n",
              "    }\n",
              "\n",
              "    .colab-df-convert {\n",
              "      background-color: #E8F0FE;\n",
              "      border: none;\n",
              "      border-radius: 50%;\n",
              "      cursor: pointer;\n",
              "      display: none;\n",
              "      fill: #1967D2;\n",
              "      height: 32px;\n",
              "      padding: 0 0 0 0;\n",
              "      width: 32px;\n",
              "    }\n",
              "\n",
              "    .colab-df-convert:hover {\n",
              "      background-color: #E2EBFA;\n",
              "      box-shadow: 0px 1px 2px rgba(60, 64, 67, 0.3), 0px 1px 3px 1px rgba(60, 64, 67, 0.15);\n",
              "      fill: #174EA6;\n",
              "    }\n",
              "\n",
              "    [theme=dark] .colab-df-convert {\n",
              "      background-color: #3B4455;\n",
              "      fill: #D2E3FC;\n",
              "    }\n",
              "\n",
              "    [theme=dark] .colab-df-convert:hover {\n",
              "      background-color: #434B5C;\n",
              "      box-shadow: 0px 1px 3px 1px rgba(0, 0, 0, 0.15);\n",
              "      filter: drop-shadow(0px 1px 2px rgba(0, 0, 0, 0.3));\n",
              "      fill: #FFFFFF;\n",
              "    }\n",
              "  </style>\n",
              "\n",
              "      <script>\n",
              "        const buttonEl =\n",
              "          document.querySelector('#df-41bf50dc-87b0-46e8-b06d-789fc2ba78cc button.colab-df-convert');\n",
              "        buttonEl.style.display =\n",
              "          google.colab.kernel.accessAllowed ? 'block' : 'none';\n",
              "\n",
              "        async function convertToInteractive(key) {\n",
              "          const element = document.querySelector('#df-41bf50dc-87b0-46e8-b06d-789fc2ba78cc');\n",
              "          const dataTable =\n",
              "            await google.colab.kernel.invokeFunction('convertToInteractive',\n",
              "                                                     [key], {});\n",
              "          if (!dataTable) return;\n",
              "\n",
              "          const docLinkHtml = 'Like what you see? Visit the ' +\n",
              "            '<a target=\"_blank\" href=https://colab.research.google.com/notebooks/data_table.ipynb>data table notebook</a>'\n",
              "            + ' to learn more about interactive tables.';\n",
              "          element.innerHTML = '';\n",
              "          dataTable['output_type'] = 'display_data';\n",
              "          await google.colab.output.renderOutput(dataTable, element);\n",
              "          const docLink = document.createElement('div');\n",
              "          docLink.innerHTML = docLinkHtml;\n",
              "          element.appendChild(docLink);\n",
              "        }\n",
              "      </script>\n",
              "    </div>\n",
              "  </div>\n",
              "  "
            ]
          },
          "metadata": {},
          "execution_count": 160
        }
      ]
    },
    {
      "cell_type": "markdown",
      "source": [
        "# **DATA CLEANING**"
      ],
      "metadata": {
        "id": "oueHtbpkHJxg"
      }
    },
    {
      "cell_type": "markdown",
      "source": [
        "**ANALYSING NUMBER OF COLUMNS AND ROWS PRESENTS IN CSV**"
      ],
      "metadata": {
        "id": "JiKuU5XTHSxh"
      }
    },
    {
      "cell_type": "code",
      "source": [
        "matches_df.shape"
      ],
      "metadata": {
        "colab": {
          "base_uri": "https://localhost:8080/"
        },
        "id": "s0AEonEwHbVh",
        "outputId": "0bdc652a-d89d-4e6f-c9d1-39b61b77b0be"
      },
      "execution_count": null,
      "outputs": [
        {
          "output_type": "execute_result",
          "data": {
            "text/plain": [
              "(59, 20)"
            ]
          },
          "metadata": {},
          "execution_count": 14
        }
      ]
    },
    {
      "cell_type": "code",
      "source": [
        "ball_df.shape"
      ],
      "metadata": {
        "colab": {
          "base_uri": "https://localhost:8080/"
        },
        "id": "WJheblV4Hc3D",
        "outputId": "e8da5ecb-8f3e-4571-888b-9d61a28a8a05"
      },
      "execution_count": null,
      "outputs": [
        {
          "output_type": "execute_result",
          "data": {
            "text/plain": [
              "(14233, 17)"
            ]
          },
          "metadata": {},
          "execution_count": 15
        }
      ]
    },
    {
      "cell_type": "code",
      "source": [
        "match.shape"
      ],
      "metadata": {
        "colab": {
          "base_uri": "https://localhost:8080/"
        },
        "id": "zLsJVxHGIVYI",
        "outputId": "3fd434e4-2a95-4483-dbd7-51a4c85284a7"
      },
      "execution_count": null,
      "outputs": [
        {
          "output_type": "execute_result",
          "data": {
            "text/plain": [
              "(71, 20)"
            ]
          },
          "metadata": {},
          "execution_count": 158
        }
      ]
    },
    {
      "cell_type": "markdown",
      "source": [
        "**ANALYSING NULL VALUES**"
      ],
      "metadata": {
        "id": "JRoq-R1jIG7y"
      }
    },
    {
      "cell_type": "code",
      "source": [
        "matches_df.info()"
      ],
      "metadata": {
        "colab": {
          "base_uri": "https://localhost:8080/"
        },
        "id": "nTiRLXMkG-PN",
        "outputId": "c9750148-05db-46bb-9ad2-f8df6696b5cc"
      },
      "execution_count": null,
      "outputs": [
        {
          "output_type": "stream",
          "name": "stdout",
          "text": [
            "<class 'pandas.core.frame.DataFrame'>\n",
            "RangeIndex: 59 entries, 0 to 58\n",
            "Data columns (total 20 columns):\n",
            " #   Column           Non-Null Count  Dtype  \n",
            "---  ------           --------------  -----  \n",
            " 0   ID               59 non-null     int64  \n",
            " 1   City             59 non-null     object \n",
            " 2   Date             59 non-null     object \n",
            " 3   Season           59 non-null     int64  \n",
            " 4   MatchNumber      59 non-null     int64  \n",
            " 5   Team1            59 non-null     object \n",
            " 6   Team2            59 non-null     object \n",
            " 7   Venue            59 non-null     object \n",
            " 8   TossWinner       59 non-null     object \n",
            " 9   TossDecision     59 non-null     object \n",
            " 10  SuperOver        59 non-null     object \n",
            " 11  WinningTeam      59 non-null     object \n",
            " 12  WonBy            59 non-null     object \n",
            " 13  Margin           59 non-null     int64  \n",
            " 14  method           0 non-null      float64\n",
            " 15  Player_of_Match  59 non-null     object \n",
            " 16  Team1Players     59 non-null     object \n",
            " 17  Team2Players     59 non-null     object \n",
            " 18  Umpire1          59 non-null     object \n",
            " 19  Umpire2          59 non-null     object \n",
            "dtypes: float64(1), int64(4), object(15)\n",
            "memory usage: 9.3+ KB\n"
          ]
        }
      ]
    },
    {
      "cell_type": "code",
      "source": [
        "ball_df.info()"
      ],
      "metadata": {
        "colab": {
          "base_uri": "https://localhost:8080/"
        },
        "id": "TBkRRwvsIOr6",
        "outputId": "2bee9113-a8bb-45f6-9475-8a4336645873"
      },
      "execution_count": null,
      "outputs": [
        {
          "output_type": "stream",
          "name": "stdout",
          "text": [
            "<class 'pandas.core.frame.DataFrame'>\n",
            "RangeIndex: 14233 entries, 0 to 14232\n",
            "Data columns (total 17 columns):\n",
            " #   Column             Non-Null Count  Dtype \n",
            "---  ------             --------------  ----- \n",
            " 0   ID                 14233 non-null  int64 \n",
            " 1   innings            14233 non-null  int64 \n",
            " 2   overs              14233 non-null  int64 \n",
            " 3   ballnumber         14233 non-null  int64 \n",
            " 4   batter             14233 non-null  object\n",
            " 5   bowler             14233 non-null  object\n",
            " 6   non-striker        14233 non-null  object\n",
            " 7   extra_type         844 non-null    object\n",
            " 8   batsman_run        14233 non-null  int64 \n",
            " 9   extras_run         14233 non-null  int64 \n",
            " 10  total_run          14233 non-null  int64 \n",
            " 11  non_boundary       14233 non-null  int64 \n",
            " 12  isWicketDelivery   14233 non-null  int64 \n",
            " 13  player_out         736 non-null    object\n",
            " 14  kind               736 non-null    object\n",
            " 15  fielders_involved  564 non-null    object\n",
            " 16  BattingTeam        14233 non-null  object\n",
            "dtypes: int64(9), object(8)\n",
            "memory usage: 1.8+ MB\n"
          ]
        }
      ]
    },
    {
      "cell_type": "code",
      "source": [
        "match.info()"
      ],
      "metadata": {
        "colab": {
          "base_uri": "https://localhost:8080/"
        },
        "id": "y6NGuF88Iay5",
        "outputId": "3979d047-1ab1-4717-eb00-f8bc3a2f15ae"
      },
      "execution_count": null,
      "outputs": [
        {
          "output_type": "stream",
          "name": "stdout",
          "text": [
            "<class 'pandas.core.frame.DataFrame'>\n",
            "RangeIndex: 71 entries, 0 to 70\n",
            "Data columns (total 20 columns):\n",
            " #   Column               Non-Null Count  Dtype \n",
            "---  ------               --------------  ----- \n",
            " 0   match_id             71 non-null     int64 \n",
            " 1   date                 71 non-null     object\n",
            " 2   venue                71 non-null     object\n",
            " 3   team1                71 non-null     object\n",
            " 4   team2                71 non-null     object\n",
            " 5   stage                71 non-null     object\n",
            " 6   toss_winner          71 non-null     object\n",
            " 7   toss_decision        71 non-null     object\n",
            " 8   first_ings_score     71 non-null     int64 \n",
            " 9   first_ings_wkts      71 non-null     int64 \n",
            " 10  second_ings_score    71 non-null     int64 \n",
            " 11  second_ings_wkts     71 non-null     int64 \n",
            " 12  match_winner         71 non-null     object\n",
            " 13  won_by               71 non-null     object\n",
            " 14  margin               71 non-null     int64 \n",
            " 15  player_of_the_match  70 non-null     object\n",
            " 16  top_scorer           71 non-null     object\n",
            " 17  highscore            71 non-null     int64 \n",
            " 18  best_bowling         71 non-null     object\n",
            " 19  best_bowling_figure  71 non-null     object\n",
            "dtypes: int64(7), object(13)\n",
            "memory usage: 11.2+ KB\n"
          ]
        }
      ]
    },
    {
      "cell_type": "markdown",
      "source": [
        "**CLEANING NULL VALUES**"
      ],
      "metadata": {
        "id": "J7giKPQZIZhI"
      }
    },
    {
      "cell_type": "markdown",
      "source": [
        "CLEANING MATCH CSV DATAFRAME"
      ],
      "metadata": {
        "id": "kzIrW2JIInCK"
      }
    },
    {
      "cell_type": "code",
      "source": [
        "matches_df.drop([\"method\"],axis=1,inplace=True)"
      ],
      "metadata": {
        "id": "evdbMnNQIRxa"
      },
      "execution_count": null,
      "outputs": []
    },
    {
      "cell_type": "markdown",
      "source": [
        "CLEANING BALL CSV DATAFRAME"
      ],
      "metadata": {
        "id": "V4GNr5RlIxKq"
      }
    },
    {
      "cell_type": "code",
      "source": [
        "ball_df[\"extra_type\"].fillna(\"Normal Delivery\",inplace=True)\n",
        "ball_df[\"player_out\"].fillna('No One Out',inplace=True)\n",
        "ball_df[\"kind\"].fillna(0,inplace=True)\n",
        "ball_df[\"fielders_involved\"].fillna(0,inplace=True)"
      ],
      "metadata": {
        "id": "zmiKawJmI_O4"
      },
      "execution_count": null,
      "outputs": []
    },
    {
      "cell_type": "markdown",
      "source": [
        "##**WORKING ON QUESTIONS ALNAYSING AND THEIR SOLUTION**"
      ],
      "metadata": {
        "id": "rNXtH1uMLTDU"
      }
    },
    {
      "cell_type": "markdown",
      "source": [
        "**BATTING**"
      ],
      "metadata": {
        "id": "d926gayuLuhg"
      }
    },
    {
      "cell_type": "markdown",
      "source": [
        "1.**HIGHEST SCRORER** BATTER IN IN OVERALL IPL 2022"
      ],
      "metadata": {
        "id": "tmsQ9xLmL4vS"
      }
    },
    {
      "cell_type": "code",
      "source": [
        "ball_df.groupby(\"batter\").sum().sort_values([\"batsman_run\"],ascending=False).head(1)"
      ],
      "metadata": {
        "colab": {
          "base_uri": "https://localhost:8080/",
          "height": 112
        },
        "id": "lHqhzqNtK6cn",
        "outputId": "a7a0a18b-08ed-46a7-e49b-f3e1282ff051"
      },
      "execution_count": null,
      "outputs": [
        {
          "output_type": "execute_result",
          "data": {
            "text/plain": [
              "                   ID  innings  overs  ballnumber  batsman_run  extras_run  \\\n",
              "batter                                                                       \n",
              "JC Buttler  560751651      470   2778        1538          625          22   \n",
              "\n",
              "            total_run  non_boundary  isWicketDelivery  \n",
              "batter                                                 \n",
              "JC Buttler        647             1                11  "
            ],
            "text/html": [
              "\n",
              "  <div id=\"df-4abaa91c-e7cc-4501-a95e-cad53d0e9587\">\n",
              "    <div class=\"colab-df-container\">\n",
              "      <div>\n",
              "<style scoped>\n",
              "    .dataframe tbody tr th:only-of-type {\n",
              "        vertical-align: middle;\n",
              "    }\n",
              "\n",
              "    .dataframe tbody tr th {\n",
              "        vertical-align: top;\n",
              "    }\n",
              "\n",
              "    .dataframe thead th {\n",
              "        text-align: right;\n",
              "    }\n",
              "</style>\n",
              "<table border=\"1\" class=\"dataframe\">\n",
              "  <thead>\n",
              "    <tr style=\"text-align: right;\">\n",
              "      <th></th>\n",
              "      <th>ID</th>\n",
              "      <th>innings</th>\n",
              "      <th>overs</th>\n",
              "      <th>ballnumber</th>\n",
              "      <th>batsman_run</th>\n",
              "      <th>extras_run</th>\n",
              "      <th>total_run</th>\n",
              "      <th>non_boundary</th>\n",
              "      <th>isWicketDelivery</th>\n",
              "    </tr>\n",
              "    <tr>\n",
              "      <th>batter</th>\n",
              "      <th></th>\n",
              "      <th></th>\n",
              "      <th></th>\n",
              "      <th></th>\n",
              "      <th></th>\n",
              "      <th></th>\n",
              "      <th></th>\n",
              "      <th></th>\n",
              "      <th></th>\n",
              "    </tr>\n",
              "  </thead>\n",
              "  <tbody>\n",
              "    <tr>\n",
              "      <th>JC Buttler</th>\n",
              "      <td>560751651</td>\n",
              "      <td>470</td>\n",
              "      <td>2778</td>\n",
              "      <td>1538</td>\n",
              "      <td>625</td>\n",
              "      <td>22</td>\n",
              "      <td>647</td>\n",
              "      <td>1</td>\n",
              "      <td>11</td>\n",
              "    </tr>\n",
              "  </tbody>\n",
              "</table>\n",
              "</div>\n",
              "      <button class=\"colab-df-convert\" onclick=\"convertToInteractive('df-4abaa91c-e7cc-4501-a95e-cad53d0e9587')\"\n",
              "              title=\"Convert this dataframe to an interactive table.\"\n",
              "              style=\"display:none;\">\n",
              "        \n",
              "  <svg xmlns=\"http://www.w3.org/2000/svg\" height=\"24px\"viewBox=\"0 0 24 24\"\n",
              "       width=\"24px\">\n",
              "    <path d=\"M0 0h24v24H0V0z\" fill=\"none\"/>\n",
              "    <path d=\"M18.56 5.44l.94 2.06.94-2.06 2.06-.94-2.06-.94-.94-2.06-.94 2.06-2.06.94zm-11 1L8.5 8.5l.94-2.06 2.06-.94-2.06-.94L8.5 2.5l-.94 2.06-2.06.94zm10 10l.94 2.06.94-2.06 2.06-.94-2.06-.94-.94-2.06-.94 2.06-2.06.94z\"/><path d=\"M17.41 7.96l-1.37-1.37c-.4-.4-.92-.59-1.43-.59-.52 0-1.04.2-1.43.59L10.3 9.45l-7.72 7.72c-.78.78-.78 2.05 0 2.83L4 21.41c.39.39.9.59 1.41.59.51 0 1.02-.2 1.41-.59l7.78-7.78 2.81-2.81c.8-.78.8-2.07 0-2.86zM5.41 20L4 18.59l7.72-7.72 1.47 1.35L5.41 20z\"/>\n",
              "  </svg>\n",
              "      </button>\n",
              "      \n",
              "  <style>\n",
              "    .colab-df-container {\n",
              "      display:flex;\n",
              "      flex-wrap:wrap;\n",
              "      gap: 12px;\n",
              "    }\n",
              "\n",
              "    .colab-df-convert {\n",
              "      background-color: #E8F0FE;\n",
              "      border: none;\n",
              "      border-radius: 50%;\n",
              "      cursor: pointer;\n",
              "      display: none;\n",
              "      fill: #1967D2;\n",
              "      height: 32px;\n",
              "      padding: 0 0 0 0;\n",
              "      width: 32px;\n",
              "    }\n",
              "\n",
              "    .colab-df-convert:hover {\n",
              "      background-color: #E2EBFA;\n",
              "      box-shadow: 0px 1px 2px rgba(60, 64, 67, 0.3), 0px 1px 3px 1px rgba(60, 64, 67, 0.15);\n",
              "      fill: #174EA6;\n",
              "    }\n",
              "\n",
              "    [theme=dark] .colab-df-convert {\n",
              "      background-color: #3B4455;\n",
              "      fill: #D2E3FC;\n",
              "    }\n",
              "\n",
              "    [theme=dark] .colab-df-convert:hover {\n",
              "      background-color: #434B5C;\n",
              "      box-shadow: 0px 1px 3px 1px rgba(0, 0, 0, 0.15);\n",
              "      filter: drop-shadow(0px 1px 2px rgba(0, 0, 0, 0.3));\n",
              "      fill: #FFFFFF;\n",
              "    }\n",
              "  </style>\n",
              "\n",
              "      <script>\n",
              "        const buttonEl =\n",
              "          document.querySelector('#df-4abaa91c-e7cc-4501-a95e-cad53d0e9587 button.colab-df-convert');\n",
              "        buttonEl.style.display =\n",
              "          google.colab.kernel.accessAllowed ? 'block' : 'none';\n",
              "\n",
              "        async function convertToInteractive(key) {\n",
              "          const element = document.querySelector('#df-4abaa91c-e7cc-4501-a95e-cad53d0e9587');\n",
              "          const dataTable =\n",
              "            await google.colab.kernel.invokeFunction('convertToInteractive',\n",
              "                                                     [key], {});\n",
              "          if (!dataTable) return;\n",
              "\n",
              "          const docLinkHtml = 'Like what you see? Visit the ' +\n",
              "            '<a target=\"_blank\" href=https://colab.research.google.com/notebooks/data_table.ipynb>data table notebook</a>'\n",
              "            + ' to learn more about interactive tables.';\n",
              "          element.innerHTML = '';\n",
              "          dataTable['output_type'] = 'display_data';\n",
              "          await google.colab.output.renderOutput(dataTable, element);\n",
              "          const docLink = document.createElement('div');\n",
              "          docLink.innerHTML = docLinkHtml;\n",
              "          element.appendChild(docLink);\n",
              "        }\n",
              "      </script>\n",
              "    </div>\n",
              "  </div>\n",
              "  "
            ]
          },
          "metadata": {},
          "execution_count": 31
        }
      ]
    },
    {
      "cell_type": "markdown",
      "source": [
        "2.**LOWEST SCRORER** BATTERS IN IN OVERALL IPL 2022"
      ],
      "metadata": {
        "id": "IiqGHCwlMA_r"
      }
    },
    {
      "cell_type": "code",
      "source": [
        "ball_df.groupby(\"batter\").sum().sort_values([\"batsman_run\"],ascending=False).tail(12)"
      ],
      "metadata": {
        "colab": {
          "base_uri": "https://localhost:8080/",
          "height": 457
        },
        "id": "B-74y8lZM5R8",
        "outputId": "54ddf691-6e52-4990-a798-c882d7884e15"
      },
      "execution_count": null,
      "outputs": [
        {
          "output_type": "execute_result",
          "data": {
            "text/plain": [
              "                   ID  innings  overs  ballnumber  batsman_run  extras_run  \\\n",
              "batter                                                                       \n",
              "K Gowtham     2608132        4      0           5            0           1   \n",
              "KK Ahmed      2608157        4     34           7            0           0   \n",
              "JJ Bumrah     6520359       10     94          32            0           1   \n",
              "KR Sen        3912210        6     57          15            0           0   \n",
              "Akash Deep    2608136        4     30           7            0           0   \n",
              "Ravi Bishnoi  1304077        2     19           6            0           0   \n",
              "NT Ellis      2608156        2     26          11            0           0   \n",
              "TS Mills      3912210        6     57          19            0           0   \n",
              "T Stubbs      2608210        4      8          11            0           0   \n",
              "RP Meredith   1304102        2     17           3            0           0   \n",
              "AS Roy        2608198        4     24           7            0           0   \n",
              "Yash Dayal    1304081        1     19           6            0           0   \n",
              "\n",
              "              total_run  non_boundary  isWicketDelivery  \n",
              "batter                                                   \n",
              "K Gowtham             1             0                 1  \n",
              "KK Ahmed              0             0                 2  \n",
              "JJ Bumrah             1             0                 1  \n",
              "KR Sen                0             0                 0  \n",
              "Akash Deep            0             0                 1  \n",
              "Ravi Bishnoi          0             0                 0  \n",
              "NT Ellis              0             0                 1  \n",
              "TS Mills              0             0                 1  \n",
              "T Stubbs              0             0                 1  \n",
              "RP Meredith           0             0                 1  \n",
              "AS Roy                0             0                 1  \n",
              "Yash Dayal            0             0                 1  "
            ],
            "text/html": [
              "\n",
              "  <div id=\"df-c84ce3eb-48ab-4fc3-8753-48cfc40b4389\">\n",
              "    <div class=\"colab-df-container\">\n",
              "      <div>\n",
              "<style scoped>\n",
              "    .dataframe tbody tr th:only-of-type {\n",
              "        vertical-align: middle;\n",
              "    }\n",
              "\n",
              "    .dataframe tbody tr th {\n",
              "        vertical-align: top;\n",
              "    }\n",
              "\n",
              "    .dataframe thead th {\n",
              "        text-align: right;\n",
              "    }\n",
              "</style>\n",
              "<table border=\"1\" class=\"dataframe\">\n",
              "  <thead>\n",
              "    <tr style=\"text-align: right;\">\n",
              "      <th></th>\n",
              "      <th>ID</th>\n",
              "      <th>innings</th>\n",
              "      <th>overs</th>\n",
              "      <th>ballnumber</th>\n",
              "      <th>batsman_run</th>\n",
              "      <th>extras_run</th>\n",
              "      <th>total_run</th>\n",
              "      <th>non_boundary</th>\n",
              "      <th>isWicketDelivery</th>\n",
              "    </tr>\n",
              "    <tr>\n",
              "      <th>batter</th>\n",
              "      <th></th>\n",
              "      <th></th>\n",
              "      <th></th>\n",
              "      <th></th>\n",
              "      <th></th>\n",
              "      <th></th>\n",
              "      <th></th>\n",
              "      <th></th>\n",
              "      <th></th>\n",
              "    </tr>\n",
              "  </thead>\n",
              "  <tbody>\n",
              "    <tr>\n",
              "      <th>K Gowtham</th>\n",
              "      <td>2608132</td>\n",
              "      <td>4</td>\n",
              "      <td>0</td>\n",
              "      <td>5</td>\n",
              "      <td>0</td>\n",
              "      <td>1</td>\n",
              "      <td>1</td>\n",
              "      <td>0</td>\n",
              "      <td>1</td>\n",
              "    </tr>\n",
              "    <tr>\n",
              "      <th>KK Ahmed</th>\n",
              "      <td>2608157</td>\n",
              "      <td>4</td>\n",
              "      <td>34</td>\n",
              "      <td>7</td>\n",
              "      <td>0</td>\n",
              "      <td>0</td>\n",
              "      <td>0</td>\n",
              "      <td>0</td>\n",
              "      <td>2</td>\n",
              "    </tr>\n",
              "    <tr>\n",
              "      <th>JJ Bumrah</th>\n",
              "      <td>6520359</td>\n",
              "      <td>10</td>\n",
              "      <td>94</td>\n",
              "      <td>32</td>\n",
              "      <td>0</td>\n",
              "      <td>1</td>\n",
              "      <td>1</td>\n",
              "      <td>0</td>\n",
              "      <td>1</td>\n",
              "    </tr>\n",
              "    <tr>\n",
              "      <th>KR Sen</th>\n",
              "      <td>3912210</td>\n",
              "      <td>6</td>\n",
              "      <td>57</td>\n",
              "      <td>15</td>\n",
              "      <td>0</td>\n",
              "      <td>0</td>\n",
              "      <td>0</td>\n",
              "      <td>0</td>\n",
              "      <td>0</td>\n",
              "    </tr>\n",
              "    <tr>\n",
              "      <th>Akash Deep</th>\n",
              "      <td>2608136</td>\n",
              "      <td>4</td>\n",
              "      <td>30</td>\n",
              "      <td>7</td>\n",
              "      <td>0</td>\n",
              "      <td>0</td>\n",
              "      <td>0</td>\n",
              "      <td>0</td>\n",
              "      <td>1</td>\n",
              "    </tr>\n",
              "    <tr>\n",
              "      <th>Ravi Bishnoi</th>\n",
              "      <td>1304077</td>\n",
              "      <td>2</td>\n",
              "      <td>19</td>\n",
              "      <td>6</td>\n",
              "      <td>0</td>\n",
              "      <td>0</td>\n",
              "      <td>0</td>\n",
              "      <td>0</td>\n",
              "      <td>0</td>\n",
              "    </tr>\n",
              "    <tr>\n",
              "      <th>NT Ellis</th>\n",
              "      <td>2608156</td>\n",
              "      <td>2</td>\n",
              "      <td>26</td>\n",
              "      <td>11</td>\n",
              "      <td>0</td>\n",
              "      <td>0</td>\n",
              "      <td>0</td>\n",
              "      <td>0</td>\n",
              "      <td>1</td>\n",
              "    </tr>\n",
              "    <tr>\n",
              "      <th>TS Mills</th>\n",
              "      <td>3912210</td>\n",
              "      <td>6</td>\n",
              "      <td>57</td>\n",
              "      <td>19</td>\n",
              "      <td>0</td>\n",
              "      <td>0</td>\n",
              "      <td>0</td>\n",
              "      <td>0</td>\n",
              "      <td>1</td>\n",
              "    </tr>\n",
              "    <tr>\n",
              "      <th>T Stubbs</th>\n",
              "      <td>2608210</td>\n",
              "      <td>4</td>\n",
              "      <td>8</td>\n",
              "      <td>11</td>\n",
              "      <td>0</td>\n",
              "      <td>0</td>\n",
              "      <td>0</td>\n",
              "      <td>0</td>\n",
              "      <td>1</td>\n",
              "    </tr>\n",
              "    <tr>\n",
              "      <th>RP Meredith</th>\n",
              "      <td>1304102</td>\n",
              "      <td>2</td>\n",
              "      <td>17</td>\n",
              "      <td>3</td>\n",
              "      <td>0</td>\n",
              "      <td>0</td>\n",
              "      <td>0</td>\n",
              "      <td>0</td>\n",
              "      <td>1</td>\n",
              "    </tr>\n",
              "    <tr>\n",
              "      <th>AS Roy</th>\n",
              "      <td>2608198</td>\n",
              "      <td>4</td>\n",
              "      <td>24</td>\n",
              "      <td>7</td>\n",
              "      <td>0</td>\n",
              "      <td>0</td>\n",
              "      <td>0</td>\n",
              "      <td>0</td>\n",
              "      <td>1</td>\n",
              "    </tr>\n",
              "    <tr>\n",
              "      <th>Yash Dayal</th>\n",
              "      <td>1304081</td>\n",
              "      <td>1</td>\n",
              "      <td>19</td>\n",
              "      <td>6</td>\n",
              "      <td>0</td>\n",
              "      <td>0</td>\n",
              "      <td>0</td>\n",
              "      <td>0</td>\n",
              "      <td>1</td>\n",
              "    </tr>\n",
              "  </tbody>\n",
              "</table>\n",
              "</div>\n",
              "      <button class=\"colab-df-convert\" onclick=\"convertToInteractive('df-c84ce3eb-48ab-4fc3-8753-48cfc40b4389')\"\n",
              "              title=\"Convert this dataframe to an interactive table.\"\n",
              "              style=\"display:none;\">\n",
              "        \n",
              "  <svg xmlns=\"http://www.w3.org/2000/svg\" height=\"24px\"viewBox=\"0 0 24 24\"\n",
              "       width=\"24px\">\n",
              "    <path d=\"M0 0h24v24H0V0z\" fill=\"none\"/>\n",
              "    <path d=\"M18.56 5.44l.94 2.06.94-2.06 2.06-.94-2.06-.94-.94-2.06-.94 2.06-2.06.94zm-11 1L8.5 8.5l.94-2.06 2.06-.94-2.06-.94L8.5 2.5l-.94 2.06-2.06.94zm10 10l.94 2.06.94-2.06 2.06-.94-2.06-.94-.94-2.06-.94 2.06-2.06.94z\"/><path d=\"M17.41 7.96l-1.37-1.37c-.4-.4-.92-.59-1.43-.59-.52 0-1.04.2-1.43.59L10.3 9.45l-7.72 7.72c-.78.78-.78 2.05 0 2.83L4 21.41c.39.39.9.59 1.41.59.51 0 1.02-.2 1.41-.59l7.78-7.78 2.81-2.81c.8-.78.8-2.07 0-2.86zM5.41 20L4 18.59l7.72-7.72 1.47 1.35L5.41 20z\"/>\n",
              "  </svg>\n",
              "      </button>\n",
              "      \n",
              "  <style>\n",
              "    .colab-df-container {\n",
              "      display:flex;\n",
              "      flex-wrap:wrap;\n",
              "      gap: 12px;\n",
              "    }\n",
              "\n",
              "    .colab-df-convert {\n",
              "      background-color: #E8F0FE;\n",
              "      border: none;\n",
              "      border-radius: 50%;\n",
              "      cursor: pointer;\n",
              "      display: none;\n",
              "      fill: #1967D2;\n",
              "      height: 32px;\n",
              "      padding: 0 0 0 0;\n",
              "      width: 32px;\n",
              "    }\n",
              "\n",
              "    .colab-df-convert:hover {\n",
              "      background-color: #E2EBFA;\n",
              "      box-shadow: 0px 1px 2px rgba(60, 64, 67, 0.3), 0px 1px 3px 1px rgba(60, 64, 67, 0.15);\n",
              "      fill: #174EA6;\n",
              "    }\n",
              "\n",
              "    [theme=dark] .colab-df-convert {\n",
              "      background-color: #3B4455;\n",
              "      fill: #D2E3FC;\n",
              "    }\n",
              "\n",
              "    [theme=dark] .colab-df-convert:hover {\n",
              "      background-color: #434B5C;\n",
              "      box-shadow: 0px 1px 3px 1px rgba(0, 0, 0, 0.15);\n",
              "      filter: drop-shadow(0px 1px 2px rgba(0, 0, 0, 0.3));\n",
              "      fill: #FFFFFF;\n",
              "    }\n",
              "  </style>\n",
              "\n",
              "      <script>\n",
              "        const buttonEl =\n",
              "          document.querySelector('#df-c84ce3eb-48ab-4fc3-8753-48cfc40b4389 button.colab-df-convert');\n",
              "        buttonEl.style.display =\n",
              "          google.colab.kernel.accessAllowed ? 'block' : 'none';\n",
              "\n",
              "        async function convertToInteractive(key) {\n",
              "          const element = document.querySelector('#df-c84ce3eb-48ab-4fc3-8753-48cfc40b4389');\n",
              "          const dataTable =\n",
              "            await google.colab.kernel.invokeFunction('convertToInteractive',\n",
              "                                                     [key], {});\n",
              "          if (!dataTable) return;\n",
              "\n",
              "          const docLinkHtml = 'Like what you see? Visit the ' +\n",
              "            '<a target=\"_blank\" href=https://colab.research.google.com/notebooks/data_table.ipynb>data table notebook</a>'\n",
              "            + ' to learn more about interactive tables.';\n",
              "          element.innerHTML = '';\n",
              "          dataTable['output_type'] = 'display_data';\n",
              "          await google.colab.output.renderOutput(dataTable, element);\n",
              "          const docLink = document.createElement('div');\n",
              "          docLink.innerHTML = docLinkHtml;\n",
              "          element.appendChild(docLink);\n",
              "        }\n",
              "      </script>\n",
              "    </div>\n",
              "  </div>\n",
              "  "
            ]
          },
          "metadata": {},
          "execution_count": 29
        }
      ]
    },
    {
      "cell_type": "markdown",
      "source": [
        "**BOWLING**"
      ],
      "metadata": {
        "id": "ZwinMgzYMo5r"
      }
    },
    {
      "cell_type": "markdown",
      "source": [
        "1.BOWLER WHO TAKES **HIGHEST NUMBER OF WICKETS** OVER ALL IPL"
      ],
      "metadata": {
        "id": "88O61bTaVWbL"
      }
    },
    {
      "cell_type": "code",
      "source": [
        "bowler=ball_df[ball_df['kind']!=0]['bowler'].value_counts().reset_index(name='No. of wickets')\n",
        "bowler.rename(columns={'index':'Bowler'}, inplace=True)\n",
        "bowler.head(1)"
      ],
      "metadata": {
        "colab": {
          "base_uri": "https://localhost:8080/",
          "height": 81
        },
        "id": "2JlCySDLT1Ga",
        "outputId": "0504f3a1-a715-4937-9c59-e8fefc82a127"
      },
      "execution_count": null,
      "outputs": [
        {
          "output_type": "execute_result",
          "data": {
            "text/plain": [
              "      Bowler  No. of wickets\n",
              "0  YS Chahal              25"
            ],
            "text/html": [
              "\n",
              "  <div id=\"df-f42e9187-387b-4c5f-b059-93cd1b37afc4\">\n",
              "    <div class=\"colab-df-container\">\n",
              "      <div>\n",
              "<style scoped>\n",
              "    .dataframe tbody tr th:only-of-type {\n",
              "        vertical-align: middle;\n",
              "    }\n",
              "\n",
              "    .dataframe tbody tr th {\n",
              "        vertical-align: top;\n",
              "    }\n",
              "\n",
              "    .dataframe thead th {\n",
              "        text-align: right;\n",
              "    }\n",
              "</style>\n",
              "<table border=\"1\" class=\"dataframe\">\n",
              "  <thead>\n",
              "    <tr style=\"text-align: right;\">\n",
              "      <th></th>\n",
              "      <th>Bowler</th>\n",
              "      <th>No. of wickets</th>\n",
              "    </tr>\n",
              "  </thead>\n",
              "  <tbody>\n",
              "    <tr>\n",
              "      <th>0</th>\n",
              "      <td>YS Chahal</td>\n",
              "      <td>25</td>\n",
              "    </tr>\n",
              "  </tbody>\n",
              "</table>\n",
              "</div>\n",
              "      <button class=\"colab-df-convert\" onclick=\"convertToInteractive('df-f42e9187-387b-4c5f-b059-93cd1b37afc4')\"\n",
              "              title=\"Convert this dataframe to an interactive table.\"\n",
              "              style=\"display:none;\">\n",
              "        \n",
              "  <svg xmlns=\"http://www.w3.org/2000/svg\" height=\"24px\"viewBox=\"0 0 24 24\"\n",
              "       width=\"24px\">\n",
              "    <path d=\"M0 0h24v24H0V0z\" fill=\"none\"/>\n",
              "    <path d=\"M18.56 5.44l.94 2.06.94-2.06 2.06-.94-2.06-.94-.94-2.06-.94 2.06-2.06.94zm-11 1L8.5 8.5l.94-2.06 2.06-.94-2.06-.94L8.5 2.5l-.94 2.06-2.06.94zm10 10l.94 2.06.94-2.06 2.06-.94-2.06-.94-.94-2.06-.94 2.06-2.06.94z\"/><path d=\"M17.41 7.96l-1.37-1.37c-.4-.4-.92-.59-1.43-.59-.52 0-1.04.2-1.43.59L10.3 9.45l-7.72 7.72c-.78.78-.78 2.05 0 2.83L4 21.41c.39.39.9.59 1.41.59.51 0 1.02-.2 1.41-.59l7.78-7.78 2.81-2.81c.8-.78.8-2.07 0-2.86zM5.41 20L4 18.59l7.72-7.72 1.47 1.35L5.41 20z\"/>\n",
              "  </svg>\n",
              "      </button>\n",
              "      \n",
              "  <style>\n",
              "    .colab-df-container {\n",
              "      display:flex;\n",
              "      flex-wrap:wrap;\n",
              "      gap: 12px;\n",
              "    }\n",
              "\n",
              "    .colab-df-convert {\n",
              "      background-color: #E8F0FE;\n",
              "      border: none;\n",
              "      border-radius: 50%;\n",
              "      cursor: pointer;\n",
              "      display: none;\n",
              "      fill: #1967D2;\n",
              "      height: 32px;\n",
              "      padding: 0 0 0 0;\n",
              "      width: 32px;\n",
              "    }\n",
              "\n",
              "    .colab-df-convert:hover {\n",
              "      background-color: #E2EBFA;\n",
              "      box-shadow: 0px 1px 2px rgba(60, 64, 67, 0.3), 0px 1px 3px 1px rgba(60, 64, 67, 0.15);\n",
              "      fill: #174EA6;\n",
              "    }\n",
              "\n",
              "    [theme=dark] .colab-df-convert {\n",
              "      background-color: #3B4455;\n",
              "      fill: #D2E3FC;\n",
              "    }\n",
              "\n",
              "    [theme=dark] .colab-df-convert:hover {\n",
              "      background-color: #434B5C;\n",
              "      box-shadow: 0px 1px 3px 1px rgba(0, 0, 0, 0.15);\n",
              "      filter: drop-shadow(0px 1px 2px rgba(0, 0, 0, 0.3));\n",
              "      fill: #FFFFFF;\n",
              "    }\n",
              "  </style>\n",
              "\n",
              "      <script>\n",
              "        const buttonEl =\n",
              "          document.querySelector('#df-f42e9187-387b-4c5f-b059-93cd1b37afc4 button.colab-df-convert');\n",
              "        buttonEl.style.display =\n",
              "          google.colab.kernel.accessAllowed ? 'block' : 'none';\n",
              "\n",
              "        async function convertToInteractive(key) {\n",
              "          const element = document.querySelector('#df-f42e9187-387b-4c5f-b059-93cd1b37afc4');\n",
              "          const dataTable =\n",
              "            await google.colab.kernel.invokeFunction('convertToInteractive',\n",
              "                                                     [key], {});\n",
              "          if (!dataTable) return;\n",
              "\n",
              "          const docLinkHtml = 'Like what you see? Visit the ' +\n",
              "            '<a target=\"_blank\" href=https://colab.research.google.com/notebooks/data_table.ipynb>data table notebook</a>'\n",
              "            + ' to learn more about interactive tables.';\n",
              "          element.innerHTML = '';\n",
              "          dataTable['output_type'] = 'display_data';\n",
              "          await google.colab.output.renderOutput(dataTable, element);\n",
              "          const docLink = document.createElement('div');\n",
              "          docLink.innerHTML = docLinkHtml;\n",
              "          element.appendChild(docLink);\n",
              "        }\n",
              "      </script>\n",
              "    </div>\n",
              "  </div>\n",
              "  "
            ]
          },
          "metadata": {},
          "execution_count": 81
        }
      ]
    },
    {
      "cell_type": "markdown",
      "source": [
        "2.BOWLER WHO TAKES **SMALLEST NUMBER OF WICKETS OVER ALL IPL**"
      ],
      "metadata": {
        "id": "U9M6AlsxNHgJ"
      }
    },
    {
      "cell_type": "code",
      "source": [
        "ball_df.groupby(\"bowler\").sum().sort_values([\"isWicketDelivery\"],ascending=True).head(21)"
      ],
      "metadata": {
        "colab": {
          "base_uri": "https://localhost:8080/",
          "height": 739
        },
        "id": "RZkVb2I3NNI8",
        "outputId": "bb53fc01-7209-4028-fcde-bc7d61ecf954"
      },
      "execution_count": null,
      "outputs": [
        {
          "output_type": "execute_result",
          "data": {
            "text/plain": [
              "                        ID  innings  overs  ballnumber  batsman_run  \\\n",
              "bowler                                                                \n",
              "KL Nagarkoti      16952624       13    100          49           28   \n",
              "Rasikh Salam      31297470       24    108          84           28   \n",
              "Fazalhaq Farooqi  31298400       24    288          84           47   \n",
              "S Dube            18256706       28    186          57           34   \n",
              "R Powell           9128455       14     63          28           16   \n",
              "Harpreet Brar     41729633       45    288         119           55   \n",
              "SS Iyer            7824522       12    108          21            7   \n",
              "Shashank Singh    16953049       13    127          49           19   \n",
              "DJ Mitchell       16953135       26     85          49           26   \n",
              "Aman Hakim Khan    7824426       12     36          21           13   \n",
              "NT Ellis          18257092       28     98          56           13   \n",
              "JDS Neesham       23473260       18    108          63           29   \n",
              "Abdul Samad        7824348        6     42          21            8   \n",
              "NM Coulter-Nile   26081020       40    235          71           46   \n",
              "Tilak Varma       15648792       18     36          42           13   \n",
              "N Rana             7824522       12     48          21           14   \n",
              "MK Lomror          7824600       12     36          21            7   \n",
              "AF Milne          19560705       30     78          48           19   \n",
              "VR Iyer           31297836       42    300          84           46   \n",
              "YBK Jaiswal        1304059        2     19           1            6   \n",
              "Abhishek Sharma   23473506       18    150          63           28   \n",
              "\n",
              "                  extras_run  total_run  non_boundary  isWicketDelivery  \n",
              "bowler                                                                   \n",
              "KL Nagarkoti               1         29             0                 0  \n",
              "Rasikh Salam               0         28             0                 0  \n",
              "Fazalhaq Farooqi           0         47             0                 0  \n",
              "S Dube                     6         40             0                 0  \n",
              "R Powell                   1         17             0                 0  \n",
              "Harpreet Brar              3         58             0                 0  \n",
              "SS Iyer                    0          7             0                 0  \n",
              "Shashank Singh             1         20             0                 0  \n",
              "DJ Mitchell                1         27             0                 0  \n",
              "Aman Hakim Khan            0         13             0                 0  \n",
              "NT Ellis                   2         15             0                 0  \n",
              "JDS Neesham                0         29             0                 0  \n",
              "Abdul Samad                0          8             0                 0  \n",
              "NM Coulter-Nile            3         49             0                 0  \n",
              "Tilak Varma                0         13             0                 0  \n",
              "N Rana                     0         14             0                 0  \n",
              "MK Lomror                  0          7             0                 0  \n",
              "AF Milne                   0         19             0                 0  \n",
              "VR Iyer                    0         46             0                 0  \n",
              "YBK Jaiswal                0          6             0                 0  \n",
              "Abhishek Sharma            0         28             0                 0  "
            ],
            "text/html": [
              "\n",
              "  <div id=\"df-bcee1562-a343-4155-97c1-2abafcbcc441\">\n",
              "    <div class=\"colab-df-container\">\n",
              "      <div>\n",
              "<style scoped>\n",
              "    .dataframe tbody tr th:only-of-type {\n",
              "        vertical-align: middle;\n",
              "    }\n",
              "\n",
              "    .dataframe tbody tr th {\n",
              "        vertical-align: top;\n",
              "    }\n",
              "\n",
              "    .dataframe thead th {\n",
              "        text-align: right;\n",
              "    }\n",
              "</style>\n",
              "<table border=\"1\" class=\"dataframe\">\n",
              "  <thead>\n",
              "    <tr style=\"text-align: right;\">\n",
              "      <th></th>\n",
              "      <th>ID</th>\n",
              "      <th>innings</th>\n",
              "      <th>overs</th>\n",
              "      <th>ballnumber</th>\n",
              "      <th>batsman_run</th>\n",
              "      <th>extras_run</th>\n",
              "      <th>total_run</th>\n",
              "      <th>non_boundary</th>\n",
              "      <th>isWicketDelivery</th>\n",
              "    </tr>\n",
              "    <tr>\n",
              "      <th>bowler</th>\n",
              "      <th></th>\n",
              "      <th></th>\n",
              "      <th></th>\n",
              "      <th></th>\n",
              "      <th></th>\n",
              "      <th></th>\n",
              "      <th></th>\n",
              "      <th></th>\n",
              "      <th></th>\n",
              "    </tr>\n",
              "  </thead>\n",
              "  <tbody>\n",
              "    <tr>\n",
              "      <th>KL Nagarkoti</th>\n",
              "      <td>16952624</td>\n",
              "      <td>13</td>\n",
              "      <td>100</td>\n",
              "      <td>49</td>\n",
              "      <td>28</td>\n",
              "      <td>1</td>\n",
              "      <td>29</td>\n",
              "      <td>0</td>\n",
              "      <td>0</td>\n",
              "    </tr>\n",
              "    <tr>\n",
              "      <th>Rasikh Salam</th>\n",
              "      <td>31297470</td>\n",
              "      <td>24</td>\n",
              "      <td>108</td>\n",
              "      <td>84</td>\n",
              "      <td>28</td>\n",
              "      <td>0</td>\n",
              "      <td>28</td>\n",
              "      <td>0</td>\n",
              "      <td>0</td>\n",
              "    </tr>\n",
              "    <tr>\n",
              "      <th>Fazalhaq Farooqi</th>\n",
              "      <td>31298400</td>\n",
              "      <td>24</td>\n",
              "      <td>288</td>\n",
              "      <td>84</td>\n",
              "      <td>47</td>\n",
              "      <td>0</td>\n",
              "      <td>47</td>\n",
              "      <td>0</td>\n",
              "      <td>0</td>\n",
              "    </tr>\n",
              "    <tr>\n",
              "      <th>S Dube</th>\n",
              "      <td>18256706</td>\n",
              "      <td>28</td>\n",
              "      <td>186</td>\n",
              "      <td>57</td>\n",
              "      <td>34</td>\n",
              "      <td>6</td>\n",
              "      <td>40</td>\n",
              "      <td>0</td>\n",
              "      <td>0</td>\n",
              "    </tr>\n",
              "    <tr>\n",
              "      <th>R Powell</th>\n",
              "      <td>9128455</td>\n",
              "      <td>14</td>\n",
              "      <td>63</td>\n",
              "      <td>28</td>\n",
              "      <td>16</td>\n",
              "      <td>1</td>\n",
              "      <td>17</td>\n",
              "      <td>0</td>\n",
              "      <td>0</td>\n",
              "    </tr>\n",
              "    <tr>\n",
              "      <th>Harpreet Brar</th>\n",
              "      <td>41729633</td>\n",
              "      <td>45</td>\n",
              "      <td>288</td>\n",
              "      <td>119</td>\n",
              "      <td>55</td>\n",
              "      <td>3</td>\n",
              "      <td>58</td>\n",
              "      <td>0</td>\n",
              "      <td>0</td>\n",
              "    </tr>\n",
              "    <tr>\n",
              "      <th>SS Iyer</th>\n",
              "      <td>7824522</td>\n",
              "      <td>12</td>\n",
              "      <td>108</td>\n",
              "      <td>21</td>\n",
              "      <td>7</td>\n",
              "      <td>0</td>\n",
              "      <td>7</td>\n",
              "      <td>0</td>\n",
              "      <td>0</td>\n",
              "    </tr>\n",
              "    <tr>\n",
              "      <th>Shashank Singh</th>\n",
              "      <td>16953049</td>\n",
              "      <td>13</td>\n",
              "      <td>127</td>\n",
              "      <td>49</td>\n",
              "      <td>19</td>\n",
              "      <td>1</td>\n",
              "      <td>20</td>\n",
              "      <td>0</td>\n",
              "      <td>0</td>\n",
              "    </tr>\n",
              "    <tr>\n",
              "      <th>DJ Mitchell</th>\n",
              "      <td>16953135</td>\n",
              "      <td>26</td>\n",
              "      <td>85</td>\n",
              "      <td>49</td>\n",
              "      <td>26</td>\n",
              "      <td>1</td>\n",
              "      <td>27</td>\n",
              "      <td>0</td>\n",
              "      <td>0</td>\n",
              "    </tr>\n",
              "    <tr>\n",
              "      <th>Aman Hakim Khan</th>\n",
              "      <td>7824426</td>\n",
              "      <td>12</td>\n",
              "      <td>36</td>\n",
              "      <td>21</td>\n",
              "      <td>13</td>\n",
              "      <td>0</td>\n",
              "      <td>13</td>\n",
              "      <td>0</td>\n",
              "      <td>0</td>\n",
              "    </tr>\n",
              "    <tr>\n",
              "      <th>NT Ellis</th>\n",
              "      <td>18257092</td>\n",
              "      <td>28</td>\n",
              "      <td>98</td>\n",
              "      <td>56</td>\n",
              "      <td>13</td>\n",
              "      <td>2</td>\n",
              "      <td>15</td>\n",
              "      <td>0</td>\n",
              "      <td>0</td>\n",
              "    </tr>\n",
              "    <tr>\n",
              "      <th>JDS Neesham</th>\n",
              "      <td>23473260</td>\n",
              "      <td>18</td>\n",
              "      <td>108</td>\n",
              "      <td>63</td>\n",
              "      <td>29</td>\n",
              "      <td>0</td>\n",
              "      <td>29</td>\n",
              "      <td>0</td>\n",
              "      <td>0</td>\n",
              "    </tr>\n",
              "    <tr>\n",
              "      <th>Abdul Samad</th>\n",
              "      <td>7824348</td>\n",
              "      <td>6</td>\n",
              "      <td>42</td>\n",
              "      <td>21</td>\n",
              "      <td>8</td>\n",
              "      <td>0</td>\n",
              "      <td>8</td>\n",
              "      <td>0</td>\n",
              "      <td>0</td>\n",
              "    </tr>\n",
              "    <tr>\n",
              "      <th>NM Coulter-Nile</th>\n",
              "      <td>26081020</td>\n",
              "      <td>40</td>\n",
              "      <td>235</td>\n",
              "      <td>71</td>\n",
              "      <td>46</td>\n",
              "      <td>3</td>\n",
              "      <td>49</td>\n",
              "      <td>0</td>\n",
              "      <td>0</td>\n",
              "    </tr>\n",
              "    <tr>\n",
              "      <th>Tilak Varma</th>\n",
              "      <td>15648792</td>\n",
              "      <td>18</td>\n",
              "      <td>36</td>\n",
              "      <td>42</td>\n",
              "      <td>13</td>\n",
              "      <td>0</td>\n",
              "      <td>13</td>\n",
              "      <td>0</td>\n",
              "      <td>0</td>\n",
              "    </tr>\n",
              "    <tr>\n",
              "      <th>N Rana</th>\n",
              "      <td>7824522</td>\n",
              "      <td>12</td>\n",
              "      <td>48</td>\n",
              "      <td>21</td>\n",
              "      <td>14</td>\n",
              "      <td>0</td>\n",
              "      <td>14</td>\n",
              "      <td>0</td>\n",
              "      <td>0</td>\n",
              "    </tr>\n",
              "    <tr>\n",
              "      <th>MK Lomror</th>\n",
              "      <td>7824600</td>\n",
              "      <td>12</td>\n",
              "      <td>36</td>\n",
              "      <td>21</td>\n",
              "      <td>7</td>\n",
              "      <td>0</td>\n",
              "      <td>7</td>\n",
              "      <td>0</td>\n",
              "      <td>0</td>\n",
              "    </tr>\n",
              "    <tr>\n",
              "      <th>AF Milne</th>\n",
              "      <td>19560705</td>\n",
              "      <td>30</td>\n",
              "      <td>78</td>\n",
              "      <td>48</td>\n",
              "      <td>19</td>\n",
              "      <td>0</td>\n",
              "      <td>19</td>\n",
              "      <td>0</td>\n",
              "      <td>0</td>\n",
              "    </tr>\n",
              "    <tr>\n",
              "      <th>VR Iyer</th>\n",
              "      <td>31297836</td>\n",
              "      <td>42</td>\n",
              "      <td>300</td>\n",
              "      <td>84</td>\n",
              "      <td>46</td>\n",
              "      <td>0</td>\n",
              "      <td>46</td>\n",
              "      <td>0</td>\n",
              "      <td>0</td>\n",
              "    </tr>\n",
              "    <tr>\n",
              "      <th>YBK Jaiswal</th>\n",
              "      <td>1304059</td>\n",
              "      <td>2</td>\n",
              "      <td>19</td>\n",
              "      <td>1</td>\n",
              "      <td>6</td>\n",
              "      <td>0</td>\n",
              "      <td>6</td>\n",
              "      <td>0</td>\n",
              "      <td>0</td>\n",
              "    </tr>\n",
              "    <tr>\n",
              "      <th>Abhishek Sharma</th>\n",
              "      <td>23473506</td>\n",
              "      <td>18</td>\n",
              "      <td>150</td>\n",
              "      <td>63</td>\n",
              "      <td>28</td>\n",
              "      <td>0</td>\n",
              "      <td>28</td>\n",
              "      <td>0</td>\n",
              "      <td>0</td>\n",
              "    </tr>\n",
              "  </tbody>\n",
              "</table>\n",
              "</div>\n",
              "      <button class=\"colab-df-convert\" onclick=\"convertToInteractive('df-bcee1562-a343-4155-97c1-2abafcbcc441')\"\n",
              "              title=\"Convert this dataframe to an interactive table.\"\n",
              "              style=\"display:none;\">\n",
              "        \n",
              "  <svg xmlns=\"http://www.w3.org/2000/svg\" height=\"24px\"viewBox=\"0 0 24 24\"\n",
              "       width=\"24px\">\n",
              "    <path d=\"M0 0h24v24H0V0z\" fill=\"none\"/>\n",
              "    <path d=\"M18.56 5.44l.94 2.06.94-2.06 2.06-.94-2.06-.94-.94-2.06-.94 2.06-2.06.94zm-11 1L8.5 8.5l.94-2.06 2.06-.94-2.06-.94L8.5 2.5l-.94 2.06-2.06.94zm10 10l.94 2.06.94-2.06 2.06-.94-2.06-.94-.94-2.06-.94 2.06-2.06.94z\"/><path d=\"M17.41 7.96l-1.37-1.37c-.4-.4-.92-.59-1.43-.59-.52 0-1.04.2-1.43.59L10.3 9.45l-7.72 7.72c-.78.78-.78 2.05 0 2.83L4 21.41c.39.39.9.59 1.41.59.51 0 1.02-.2 1.41-.59l7.78-7.78 2.81-2.81c.8-.78.8-2.07 0-2.86zM5.41 20L4 18.59l7.72-7.72 1.47 1.35L5.41 20z\"/>\n",
              "  </svg>\n",
              "      </button>\n",
              "      \n",
              "  <style>\n",
              "    .colab-df-container {\n",
              "      display:flex;\n",
              "      flex-wrap:wrap;\n",
              "      gap: 12px;\n",
              "    }\n",
              "\n",
              "    .colab-df-convert {\n",
              "      background-color: #E8F0FE;\n",
              "      border: none;\n",
              "      border-radius: 50%;\n",
              "      cursor: pointer;\n",
              "      display: none;\n",
              "      fill: #1967D2;\n",
              "      height: 32px;\n",
              "      padding: 0 0 0 0;\n",
              "      width: 32px;\n",
              "    }\n",
              "\n",
              "    .colab-df-convert:hover {\n",
              "      background-color: #E2EBFA;\n",
              "      box-shadow: 0px 1px 2px rgba(60, 64, 67, 0.3), 0px 1px 3px 1px rgba(60, 64, 67, 0.15);\n",
              "      fill: #174EA6;\n",
              "    }\n",
              "\n",
              "    [theme=dark] .colab-df-convert {\n",
              "      background-color: #3B4455;\n",
              "      fill: #D2E3FC;\n",
              "    }\n",
              "\n",
              "    [theme=dark] .colab-df-convert:hover {\n",
              "      background-color: #434B5C;\n",
              "      box-shadow: 0px 1px 3px 1px rgba(0, 0, 0, 0.15);\n",
              "      filter: drop-shadow(0px 1px 2px rgba(0, 0, 0, 0.3));\n",
              "      fill: #FFFFFF;\n",
              "    }\n",
              "  </style>\n",
              "\n",
              "      <script>\n",
              "        const buttonEl =\n",
              "          document.querySelector('#df-bcee1562-a343-4155-97c1-2abafcbcc441 button.colab-df-convert');\n",
              "        buttonEl.style.display =\n",
              "          google.colab.kernel.accessAllowed ? 'block' : 'none';\n",
              "\n",
              "        async function convertToInteractive(key) {\n",
              "          const element = document.querySelector('#df-bcee1562-a343-4155-97c1-2abafcbcc441');\n",
              "          const dataTable =\n",
              "            await google.colab.kernel.invokeFunction('convertToInteractive',\n",
              "                                                     [key], {});\n",
              "          if (!dataTable) return;\n",
              "\n",
              "          const docLinkHtml = 'Like what you see? Visit the ' +\n",
              "            '<a target=\"_blank\" href=https://colab.research.google.com/notebooks/data_table.ipynb>data table notebook</a>'\n",
              "            + ' to learn more about interactive tables.';\n",
              "          element.innerHTML = '';\n",
              "          dataTable['output_type'] = 'display_data';\n",
              "          await google.colab.output.renderOutput(dataTable, element);\n",
              "          const docLink = document.createElement('div');\n",
              "          docLink.innerHTML = docLinkHtml;\n",
              "          element.appendChild(docLink);\n",
              "        }\n",
              "      </script>\n",
              "    </div>\n",
              "  </div>\n",
              "  "
            ]
          },
          "metadata": {},
          "execution_count": 88
        }
      ]
    },
    {
      "cell_type": "markdown",
      "source": [
        "**STATS OF TOP 5 BOWLERS** "
      ],
      "metadata": {
        "id": "FhEKmKPkbD-z"
      }
    },
    {
      "cell_type": "code",
      "source": [
        "bowler5=bowler.head(5)"
      ],
      "metadata": {
        "id": "3HJVVvckZ-Ay"
      },
      "execution_count": null,
      "outputs": []
    },
    {
      "cell_type": "code",
      "source": [
        "plt.figure(figsize=(10,5))\n",
        "plt.bar(bowler5['Bowler'],bowler5['No. of wickets'],color='green',width=0.2)\n",
        "plt.xticks(rotation=90)\n",
        "plt.title('Bowler Stats')\n",
        "plt.xlabel('Bowler')\n",
        "plt.ylabel('Wicket_Count')\n",
        "plt.show()"
      ],
      "metadata": {
        "colab": {
          "base_uri": "https://localhost:8080/",
          "height": 412
        },
        "id": "rmaw3K8iXoqt",
        "outputId": "0eff3b67-4158-4a26-c0ad-bdee0818f969"
      },
      "execution_count": null,
      "outputs": [
        {
          "output_type": "display_data",
          "data": {
            "text/plain": [
              "<Figure size 720x360 with 1 Axes>"
            ],
            "image/png": "[encoded data removed]"
          },
          "metadata": {
            "needs_background": "light"
          }
        }
      ]
    },
    {
      "cell_type": "markdown",
      "source": [
        "**DIFFERENT WICKET TYPES AND WHO TAKES LARGEST NUMBERS**"
      ],
      "metadata": {
        "id": "iIG9RG4tN2uE"
      }
    },
    {
      "cell_type": "markdown",
      "source": [
        "**TYPES OF WICKETS IN DATAFRAME**"
      ],
      "metadata": {
        "id": "Magxf99cOsNu"
      }
    },
    {
      "cell_type": "code",
      "source": [
        "list(ball_df['kind'].unique())"
      ],
      "metadata": {
        "colab": {
          "base_uri": "https://localhost:8080/"
        },
        "id": "TAU2-pyqNac0",
        "outputId": "530d31bc-5e76-4948-a501-b6cc994c1330"
      },
      "execution_count": null,
      "outputs": [
        {
          "output_type": "execute_result",
          "data": {
            "text/plain": [
              "[0,\n",
              " 'lbw',\n",
              " 'caught',\n",
              " 'run out',\n",
              " 'bowled',\n",
              " 'stumped',\n",
              " 'caught and bowled',\n",
              " 'hit wicket',\n",
              " 'retired hurt',\n",
              " 'retired out']"
            ]
          },
          "metadata": {},
          "execution_count": 10
        }
      ]
    },
    {
      "cell_type": "markdown",
      "source": [
        "**FILDER WHO TAKES CATCHES**"
      ],
      "metadata": {
        "id": "hM4QoZVkO46F"
      }
    },
    {
      "cell_type": "code",
      "source": [
        "wicket_keeper_catch=ball_df[ball_df['kind']=='caught']['fielders_involved'].value_counts().reset_index()\n",
        "wicket_keeper_catch.rename(columns={'index':'wicket_keeper','fielders_involved':'No. of catches takes'}, inplace=True)\n",
        "wicket_keeper_catch.head(5)"
      ],
      "metadata": {
        "colab": {
          "base_uri": "https://localhost:8080/",
          "height": 206
        },
        "id": "ZMh4a7YjOwAd",
        "outputId": "b8485db3-c28a-45c4-fb53-2b5626a58539"
      },
      "execution_count": null,
      "outputs": [
        {
          "output_type": "execute_result",
          "data": {
            "text/plain": [
              "  wicket_keeper  No. of catches takes\n",
              "0       R Parag                    11\n",
              "1     Q de Kock                    10\n",
              "2  Ishan Kishan                    10\n",
              "3     SV Samson                    10\n",
              "4   Tilak Varma                     9"
            ],
            "text/html": [
              "\n",
              "  <div id=\"df-445487d0-53e8-45c3-8322-827fd1afce7f\">\n",
              "    <div class=\"colab-df-container\">\n",
              "      <div>\n",
              "<style scoped>\n",
              "    .dataframe tbody tr th:only-of-type {\n",
              "        vertical-align: middle;\n",
              "    }\n",
              "\n",
              "    .dataframe tbody tr th {\n",
              "        vertical-align: top;\n",
              "    }\n",
              "\n",
              "    .dataframe thead th {\n",
              "        text-align: right;\n",
              "    }\n",
              "</style>\n",
              "<table border=\"1\" class=\"dataframe\">\n",
              "  <thead>\n",
              "    <tr style=\"text-align: right;\">\n",
              "      <th></th>\n",
              "      <th>wicket_keeper</th>\n",
              "      <th>No. of catches takes</th>\n",
              "    </tr>\n",
              "  </thead>\n",
              "  <tbody>\n",
              "    <tr>\n",
              "      <th>0</th>\n",
              "      <td>R Parag</td>\n",
              "      <td>11</td>\n",
              "    </tr>\n",
              "    <tr>\n",
              "      <th>1</th>\n",
              "      <td>Q de Kock</td>\n",
              "      <td>10</td>\n",
              "    </tr>\n",
              "    <tr>\n",
              "      <th>2</th>\n",
              "      <td>Ishan Kishan</td>\n",
              "      <td>10</td>\n",
              "    </tr>\n",
              "    <tr>\n",
              "      <th>3</th>\n",
              "      <td>SV Samson</td>\n",
              "      <td>10</td>\n",
              "    </tr>\n",
              "    <tr>\n",
              "      <th>4</th>\n",
              "      <td>Tilak Varma</td>\n",
              "      <td>9</td>\n",
              "    </tr>\n",
              "  </tbody>\n",
              "</table>\n",
              "</div>\n",
              "      <button class=\"colab-df-convert\" onclick=\"convertToInteractive('df-445487d0-53e8-45c3-8322-827fd1afce7f')\"\n",
              "              title=\"Convert this dataframe to an interactive table.\"\n",
              "              style=\"display:none;\">\n",
              "        \n",
              "  <svg xmlns=\"http://www.w3.org/2000/svg\" height=\"24px\"viewBox=\"0 0 24 24\"\n",
              "       width=\"24px\">\n",
              "    <path d=\"M0 0h24v24H0V0z\" fill=\"none\"/>\n",
              "    <path d=\"M18.56 5.44l.94 2.06.94-2.06 2.06-.94-2.06-.94-.94-2.06-.94 2.06-2.06.94zm-11 1L8.5 8.5l.94-2.06 2.06-.94-2.06-.94L8.5 2.5l-.94 2.06-2.06.94zm10 10l.94 2.06.94-2.06 2.06-.94-2.06-.94-.94-2.06-.94 2.06-2.06.94z\"/><path d=\"M17.41 7.96l-1.37-1.37c-.4-.4-.92-.59-1.43-.59-.52 0-1.04.2-1.43.59L10.3 9.45l-7.72 7.72c-.78.78-.78 2.05 0 2.83L4 21.41c.39.39.9.59 1.41.59.51 0 1.02-.2 1.41-.59l7.78-7.78 2.81-2.81c.8-.78.8-2.07 0-2.86zM5.41 20L4 18.59l7.72-7.72 1.47 1.35L5.41 20z\"/>\n",
              "  </svg>\n",
              "      </button>\n",
              "      \n",
              "  <style>\n",
              "    .colab-df-container {\n",
              "      display:flex;\n",
              "      flex-wrap:wrap;\n",
              "      gap: 12px;\n",
              "    }\n",
              "\n",
              "    .colab-df-convert {\n",
              "      background-color: #E8F0FE;\n",
              "      border: none;\n",
              "      border-radius: 50%;\n",
              "      cursor: pointer;\n",
              "      display: none;\n",
              "      fill: #1967D2;\n",
              "      height: 32px;\n",
              "      padding: 0 0 0 0;\n",
              "      width: 32px;\n",
              "    }\n",
              "\n",
              "    .colab-df-convert:hover {\n",
              "      background-color: #E2EBFA;\n",
              "      box-shadow: 0px 1px 2px rgba(60, 64, 67, 0.3), 0px 1px 3px 1px rgba(60, 64, 67, 0.15);\n",
              "      fill: #174EA6;\n",
              "    }\n",
              "\n",
              "    [theme=dark] .colab-df-convert {\n",
              "      background-color: #3B4455;\n",
              "      fill: #D2E3FC;\n",
              "    }\n",
              "\n",
              "    [theme=dark] .colab-df-convert:hover {\n",
              "      background-color: #434B5C;\n",
              "      box-shadow: 0px 1px 3px 1px rgba(0, 0, 0, 0.15);\n",
              "      filter: drop-shadow(0px 1px 2px rgba(0, 0, 0, 0.3));\n",
              "      fill: #FFFFFF;\n",
              "    }\n",
              "  </style>\n",
              "\n",
              "      <script>\n",
              "        const buttonEl =\n",
              "          document.querySelector('#df-445487d0-53e8-45c3-8322-827fd1afce7f button.colab-df-convert');\n",
              "        buttonEl.style.display =\n",
              "          google.colab.kernel.accessAllowed ? 'block' : 'none';\n",
              "\n",
              "        async function convertToInteractive(key) {\n",
              "          const element = document.querySelector('#df-445487d0-53e8-45c3-8322-827fd1afce7f');\n",
              "          const dataTable =\n",
              "            await google.colab.kernel.invokeFunction('convertToInteractive',\n",
              "                                                     [key], {});\n",
              "          if (!dataTable) return;\n",
              "\n",
              "          const docLinkHtml = 'Like what you see? Visit the ' +\n",
              "            '<a target=\"_blank\" href=https://colab.research.google.com/notebooks/data_table.ipynb>data table notebook</a>'\n",
              "            + ' to learn more about interactive tables.';\n",
              "          element.innerHTML = '';\n",
              "          dataTable['output_type'] = 'display_data';\n",
              "          await google.colab.output.renderOutput(dataTable, element);\n",
              "          const docLink = document.createElement('div');\n",
              "          docLink.innerHTML = docLinkHtml;\n",
              "          element.appendChild(docLink);\n",
              "        }\n",
              "      </script>\n",
              "    </div>\n",
              "  </div>\n",
              "  "
            ]
          },
          "metadata": {},
          "execution_count": 25
        }
      ]
    },
    {
      "cell_type": "markdown",
      "source": [
        "**FILDER WHO TAKES RUN OUT**"
      ],
      "metadata": {
        "id": "UM7FzJQrRu8m"
      }
    },
    {
      "cell_type": "code",
      "source": [
        "wicket_keeper_runout=ball_df[ball_df['kind']=='run out']['fielders_involved'].value_counts().reset_index()\n",
        "wicket_keeper_runout.rename(columns={'index':'wicket_keeper','fielders_involved':'run out'}, inplace=True)\n",
        "wicket_keeper_runout.head(5)"
      ],
      "metadata": {
        "colab": {
          "base_uri": "https://localhost:8080/",
          "height": 206
        },
        "id": "3eTlkk5DSLwV",
        "outputId": "bd34f2a5-d2ed-41e8-a1d7-852048ea8a17"
      },
      "execution_count": null,
      "outputs": [
        {
          "output_type": "execute_result",
          "data": {
            "text/plain": [
              "  wicket_keeper  run out\n",
              "0  Ishan Kishan        4\n",
              "1       SS Iyer        3\n",
              "2      N Pooran        3\n",
              "3     SV Samson        3\n",
              "4     HH Pandya        2"
            ],
            "text/html": [
              "\n",
              "  <div id=\"df-6eb0501c-0446-4da7-b72b-a9a7953ddede\">\n",
              "    <div class=\"colab-df-container\">\n",
              "      <div>\n",
              "<style scoped>\n",
              "    .dataframe tbody tr th:only-of-type {\n",
              "        vertical-align: middle;\n",
              "    }\n",
              "\n",
              "    .dataframe tbody tr th {\n",
              "        vertical-align: top;\n",
              "    }\n",
              "\n",
              "    .dataframe thead th {\n",
              "        text-align: right;\n",
              "    }\n",
              "</style>\n",
              "<table border=\"1\" class=\"dataframe\">\n",
              "  <thead>\n",
              "    <tr style=\"text-align: right;\">\n",
              "      <th></th>\n",
              "      <th>wicket_keeper</th>\n",
              "      <th>run out</th>\n",
              "    </tr>\n",
              "  </thead>\n",
              "  <tbody>\n",
              "    <tr>\n",
              "      <th>0</th>\n",
              "      <td>Ishan Kishan</td>\n",
              "      <td>4</td>\n",
              "    </tr>\n",
              "    <tr>\n",
              "      <th>1</th>\n",
              "      <td>SS Iyer</td>\n",
              "      <td>3</td>\n",
              "    </tr>\n",
              "    <tr>\n",
              "      <th>2</th>\n",
              "      <td>N Pooran</td>\n",
              "      <td>3</td>\n",
              "    </tr>\n",
              "    <tr>\n",
              "      <th>3</th>\n",
              "      <td>SV Samson</td>\n",
              "      <td>3</td>\n",
              "    </tr>\n",
              "    <tr>\n",
              "      <th>4</th>\n",
              "      <td>HH Pandya</td>\n",
              "      <td>2</td>\n",
              "    </tr>\n",
              "  </tbody>\n",
              "</table>\n",
              "</div>\n",
              "      <button class=\"colab-df-convert\" onclick=\"convertToInteractive('df-6eb0501c-0446-4da7-b72b-a9a7953ddede')\"\n",
              "              title=\"Convert this dataframe to an interactive table.\"\n",
              "              style=\"display:none;\">\n",
              "        \n",
              "  <svg xmlns=\"http://www.w3.org/2000/svg\" height=\"24px\"viewBox=\"0 0 24 24\"\n",
              "       width=\"24px\">\n",
              "    <path d=\"M0 0h24v24H0V0z\" fill=\"none\"/>\n",
              "    <path d=\"M18.56 5.44l.94 2.06.94-2.06 2.06-.94-2.06-.94-.94-2.06-.94 2.06-2.06.94zm-11 1L8.5 8.5l.94-2.06 2.06-.94-2.06-.94L8.5 2.5l-.94 2.06-2.06.94zm10 10l.94 2.06.94-2.06 2.06-.94-2.06-.94-.94-2.06-.94 2.06-2.06.94z\"/><path d=\"M17.41 7.96l-1.37-1.37c-.4-.4-.92-.59-1.43-.59-.52 0-1.04.2-1.43.59L10.3 9.45l-7.72 7.72c-.78.78-.78 2.05 0 2.83L4 21.41c.39.39.9.59 1.41.59.51 0 1.02-.2 1.41-.59l7.78-7.78 2.81-2.81c.8-.78.8-2.07 0-2.86zM5.41 20L4 18.59l7.72-7.72 1.47 1.35L5.41 20z\"/>\n",
              "  </svg>\n",
              "      </button>\n",
              "      \n",
              "  <style>\n",
              "    .colab-df-container {\n",
              "      display:flex;\n",
              "      flex-wrap:wrap;\n",
              "      gap: 12px;\n",
              "    }\n",
              "\n",
              "    .colab-df-convert {\n",
              "      background-color: #E8F0FE;\n",
              "      border: none;\n",
              "      border-radius: 50%;\n",
              "      cursor: pointer;\n",
              "      display: none;\n",
              "      fill: #1967D2;\n",
              "      height: 32px;\n",
              "      padding: 0 0 0 0;\n",
              "      width: 32px;\n",
              "    }\n",
              "\n",
              "    .colab-df-convert:hover {\n",
              "      background-color: #E2EBFA;\n",
              "      box-shadow: 0px 1px 2px rgba(60, 64, 67, 0.3), 0px 1px 3px 1px rgba(60, 64, 67, 0.15);\n",
              "      fill: #174EA6;\n",
              "    }\n",
              "\n",
              "    [theme=dark] .colab-df-convert {\n",
              "      background-color: #3B4455;\n",
              "      fill: #D2E3FC;\n",
              "    }\n",
              "\n",
              "    [theme=dark] .colab-df-convert:hover {\n",
              "      background-color: #434B5C;\n",
              "      box-shadow: 0px 1px 3px 1px rgba(0, 0, 0, 0.15);\n",
              "      filter: drop-shadow(0px 1px 2px rgba(0, 0, 0, 0.3));\n",
              "      fill: #FFFFFF;\n",
              "    }\n",
              "  </style>\n",
              "\n",
              "      <script>\n",
              "        const buttonEl =\n",
              "          document.querySelector('#df-6eb0501c-0446-4da7-b72b-a9a7953ddede button.colab-df-convert');\n",
              "        buttonEl.style.display =\n",
              "          google.colab.kernel.accessAllowed ? 'block' : 'none';\n",
              "\n",
              "        async function convertToInteractive(key) {\n",
              "          const element = document.querySelector('#df-6eb0501c-0446-4da7-b72b-a9a7953ddede');\n",
              "          const dataTable =\n",
              "            await google.colab.kernel.invokeFunction('convertToInteractive',\n",
              "                                                     [key], {});\n",
              "          if (!dataTable) return;\n",
              "\n",
              "          const docLinkHtml = 'Like what you see? Visit the ' +\n",
              "            '<a target=\"_blank\" href=https://colab.research.google.com/notebooks/data_table.ipynb>data table notebook</a>'\n",
              "            + ' to learn more about interactive tables.';\n",
              "          element.innerHTML = '';\n",
              "          dataTable['output_type'] = 'display_data';\n",
              "          await google.colab.output.renderOutput(dataTable, element);\n",
              "          const docLink = document.createElement('div');\n",
              "          docLink.innerHTML = docLinkHtml;\n",
              "          element.appendChild(docLink);\n",
              "        }\n",
              "      </script>\n",
              "    </div>\n",
              "  </div>\n",
              "  "
            ]
          },
          "metadata": {},
          "execution_count": 24
        }
      ]
    },
    {
      "cell_type": "markdown",
      "source": [
        "**WORKING ON WICKETS STATS BETWEEN CATCHES AND RUN OUT**"
      ],
      "metadata": {
        "id": "9iPmQv1QUoWG"
      }
    },
    {
      "cell_type": "code",
      "source": [
        "wicket_keeper_merge=wicket_keeper_catch.merge(wicket_keeper_runout,on='wicket_keeper')\n",
        "wicket_keeper_mergetop10=wicket_keeper_merge.head(10)\n",
        "wicket_keeper_mergetop10"
      ],
      "metadata": {
        "colab": {
          "base_uri": "https://localhost:8080/",
          "height": 363
        },
        "id": "Kbm3eHEKSsfg",
        "outputId": "69d095ea-64dc-4fee-a55d-88be7c274f8c"
      },
      "execution_count": null,
      "outputs": [
        {
          "output_type": "execute_result",
          "data": {
            "text/plain": [
              "  wicket_keeper  No. of catches takes  run out\n",
              "0     Q de Kock                    10        2\n",
              "1  Ishan Kishan                    10        4\n",
              "2     SV Samson                    10        3\n",
              "3      MS Dhoni                     9        1\n",
              "4      RK Singh                     9        1\n",
              "5    MA Agarwal                     8        1\n",
              "6      N Pooran                     8        3\n",
              "7      A Badoni                     8        1\n",
              "8       WP Saha                     7        1\n",
              "9      KL Rahul                     7        1"
            ],
            "text/html": [
              "\n",
              "  <div id=\"df-2befd318-b250-483e-ba4c-9fc0c5624253\">\n",
              "    <div class=\"colab-df-container\">\n",
              "      <div>\n",
              "<style scoped>\n",
              "    .dataframe tbody tr th:only-of-type {\n",
              "        vertical-align: middle;\n",
              "    }\n",
              "\n",
              "    .dataframe tbody tr th {\n",
              "        vertical-align: top;\n",
              "    }\n",
              "\n",
              "    .dataframe thead th {\n",
              "        text-align: right;\n",
              "    }\n",
              "</style>\n",
              "<table border=\"1\" class=\"dataframe\">\n",
              "  <thead>\n",
              "    <tr style=\"text-align: right;\">\n",
              "      <th></th>\n",
              "      <th>wicket_keeper</th>\n",
              "      <th>No. of catches takes</th>\n",
              "      <th>run out</th>\n",
              "    </tr>\n",
              "  </thead>\n",
              "  <tbody>\n",
              "    <tr>\n",
              "      <th>0</th>\n",
              "      <td>Q de Kock</td>\n",
              "      <td>10</td>\n",
              "      <td>2</td>\n",
              "    </tr>\n",
              "    <tr>\n",
              "      <th>1</th>\n",
              "      <td>Ishan Kishan</td>\n",
              "      <td>10</td>\n",
              "      <td>4</td>\n",
              "    </tr>\n",
              "    <tr>\n",
              "      <th>2</th>\n",
              "      <td>SV Samson</td>\n",
              "      <td>10</td>\n",
              "      <td>3</td>\n",
              "    </tr>\n",
              "    <tr>\n",
              "      <th>3</th>\n",
              "      <td>MS Dhoni</td>\n",
              "      <td>9</td>\n",
              "      <td>1</td>\n",
              "    </tr>\n",
              "    <tr>\n",
              "      <th>4</th>\n",
              "      <td>RK Singh</td>\n",
              "      <td>9</td>\n",
              "      <td>1</td>\n",
              "    </tr>\n",
              "    <tr>\n",
              "      <th>5</th>\n",
              "      <td>MA Agarwal</td>\n",
              "      <td>8</td>\n",
              "      <td>1</td>\n",
              "    </tr>\n",
              "    <tr>\n",
              "      <th>6</th>\n",
              "      <td>N Pooran</td>\n",
              "      <td>8</td>\n",
              "      <td>3</td>\n",
              "    </tr>\n",
              "    <tr>\n",
              "      <th>7</th>\n",
              "      <td>A Badoni</td>\n",
              "      <td>8</td>\n",
              "      <td>1</td>\n",
              "    </tr>\n",
              "    <tr>\n",
              "      <th>8</th>\n",
              "      <td>WP Saha</td>\n",
              "      <td>7</td>\n",
              "      <td>1</td>\n",
              "    </tr>\n",
              "    <tr>\n",
              "      <th>9</th>\n",
              "      <td>KL Rahul</td>\n",
              "      <td>7</td>\n",
              "      <td>1</td>\n",
              "    </tr>\n",
              "  </tbody>\n",
              "</table>\n",
              "</div>\n",
              "      <button class=\"colab-df-convert\" onclick=\"convertToInteractive('df-2befd318-b250-483e-ba4c-9fc0c5624253')\"\n",
              "              title=\"Convert this dataframe to an interactive table.\"\n",
              "              style=\"display:none;\">\n",
              "        \n",
              "  <svg xmlns=\"http://www.w3.org/2000/svg\" height=\"24px\"viewBox=\"0 0 24 24\"\n",
              "       width=\"24px\">\n",
              "    <path d=\"M0 0h24v24H0V0z\" fill=\"none\"/>\n",
              "    <path d=\"M18.56 5.44l.94 2.06.94-2.06 2.06-.94-2.06-.94-.94-2.06-.94 2.06-2.06.94zm-11 1L8.5 8.5l.94-2.06 2.06-.94-2.06-.94L8.5 2.5l-.94 2.06-2.06.94zm10 10l.94 2.06.94-2.06 2.06-.94-2.06-.94-.94-2.06-.94 2.06-2.06.94z\"/><path d=\"M17.41 7.96l-1.37-1.37c-.4-.4-.92-.59-1.43-.59-.52 0-1.04.2-1.43.59L10.3 9.45l-7.72 7.72c-.78.78-.78 2.05 0 2.83L4 21.41c.39.39.9.59 1.41.59.51 0 1.02-.2 1.41-.59l7.78-7.78 2.81-2.81c.8-.78.8-2.07 0-2.86zM5.41 20L4 18.59l7.72-7.72 1.47 1.35L5.41 20z\"/>\n",
              "  </svg>\n",
              "      </button>\n",
              "      \n",
              "  <style>\n",
              "    .colab-df-container {\n",
              "      display:flex;\n",
              "      flex-wrap:wrap;\n",
              "      gap: 12px;\n",
              "    }\n",
              "\n",
              "    .colab-df-convert {\n",
              "      background-color: #E8F0FE;\n",
              "      border: none;\n",
              "      border-radius: 50%;\n",
              "      cursor: pointer;\n",
              "      display: none;\n",
              "      fill: #1967D2;\n",
              "      height: 32px;\n",
              "      padding: 0 0 0 0;\n",
              "      width: 32px;\n",
              "    }\n",
              "\n",
              "    .colab-df-convert:hover {\n",
              "      background-color: #E2EBFA;\n",
              "      box-shadow: 0px 1px 2px rgba(60, 64, 67, 0.3), 0px 1px 3px 1px rgba(60, 64, 67, 0.15);\n",
              "      fill: #174EA6;\n",
              "    }\n",
              "\n",
              "    [theme=dark] .colab-df-convert {\n",
              "      background-color: #3B4455;\n",
              "      fill: #D2E3FC;\n",
              "    }\n",
              "\n",
              "    [theme=dark] .colab-df-convert:hover {\n",
              "      background-color: #434B5C;\n",
              "      box-shadow: 0px 1px 3px 1px rgba(0, 0, 0, 0.15);\n",
              "      filter: drop-shadow(0px 1px 2px rgba(0, 0, 0, 0.3));\n",
              "      fill: #FFFFFF;\n",
              "    }\n",
              "  </style>\n",
              "\n",
              "      <script>\n",
              "        const buttonEl =\n",
              "          document.querySelector('#df-2befd318-b250-483e-ba4c-9fc0c5624253 button.colab-df-convert');\n",
              "        buttonEl.style.display =\n",
              "          google.colab.kernel.accessAllowed ? 'block' : 'none';\n",
              "\n",
              "        async function convertToInteractive(key) {\n",
              "          const element = document.querySelector('#df-2befd318-b250-483e-ba4c-9fc0c5624253');\n",
              "          const dataTable =\n",
              "            await google.colab.kernel.invokeFunction('convertToInteractive',\n",
              "                                                     [key], {});\n",
              "          if (!dataTable) return;\n",
              "\n",
              "          const docLinkHtml = 'Like what you see? Visit the ' +\n",
              "            '<a target=\"_blank\" href=https://colab.research.google.com/notebooks/data_table.ipynb>data table notebook</a>'\n",
              "            + ' to learn more about interactive tables.';\n",
              "          element.innerHTML = '';\n",
              "          dataTable['output_type'] = 'display_data';\n",
              "          await google.colab.output.renderOutput(dataTable, element);\n",
              "          const docLink = document.createElement('div');\n",
              "          docLink.innerHTML = docLinkHtml;\n",
              "          element.appendChild(docLink);\n",
              "        }\n",
              "      </script>\n",
              "    </div>\n",
              "  </div>\n",
              "  "
            ]
          },
          "metadata": {},
          "execution_count": 27
        }
      ]
    },
    {
      "cell_type": "code",
      "source": [
        "plt.figure(figsize=(10,5))\n",
        "plt.bar(wicket_keeper_mergetop10['wicket_keeper'],wicket_keeper_mergetop10['No. of catches takes'], label='catches',width=0.3)\n",
        "plt.bar(wicket_keeper_mergetop10['wicket_keeper'],wicket_keeper_mergetop10['run out'], label='run out',width=0.3)\n",
        "plt.xticks(rotation=60)\n",
        "plt.title('Wicket Keeper Stats')\n",
        "plt.xlabel('Wicket Keepers')\n",
        "plt.ylabel('Wicket_Count')\n",
        "plt.legend(loc='upper right')\n",
        "plt.show()"
      ],
      "metadata": {
        "colab": {
          "base_uri": "https://localhost:8080/",
          "height": 400
        },
        "id": "V6vd3bG6TYs1",
        "outputId": "938a01c3-604e-4437-a81a-639cf66069bc"
      },
      "execution_count": null,
      "outputs": [
        {
          "output_type": "display_data",
          "data": {
            "text/plain": [
              "<Figure size 720x360 with 1 Axes>"
            ],
            "image/png": "[encoded data removed]"
          },
          "metadata": {
            "needs_background": "light"
          }
        }
      ]
    },
    {
      "cell_type": "markdown",
      "source": [
        "**NO. OF TOSS WON BY EACH TEAM**"
      ],
      "metadata": {
        "id": "dwrg-3x0dKRO"
      }
    },
    {
      "cell_type": "code",
      "source": [
        "toss_won_count=pd.DataFrame({\"Toss Won\":matches_df['TossWinner']}).value_counts()\n",
        "labels=[x[0]for x in toss_won_count.keys()]"
      ],
      "metadata": {
        "id": "BYZYbFyEaUfi"
      },
      "execution_count": null,
      "outputs": []
    },
    {
      "cell_type": "markdown",
      "source": [
        "**STATS**"
      ],
      "metadata": {
        "id": "q8bzgjxzrm5O"
      }
    },
    {
      "cell_type": "code",
      "source": [
        "plt.pie(toss_won_count,labels=labels,startangle=0,explode=[0.3,0,0,0,0,0,0,0,0,0],shadow=True,autopct=\"%2.1f%%\",radius=2)\n",
        "plt.legend(bbox_to_anchor=(1,0), loc=\"best\",bbox_transform=plt.gcf().transFigure)\n",
        "plt.show()"
      ],
      "metadata": {
        "colab": {
          "base_uri": "https://localhost:8080/",
          "height": 527
        },
        "id": "7sFSjIP3ddUz",
        "outputId": "bd8d1daf-12a9-46c2-f274-f3e498e342ed"
      },
      "execution_count": null,
      "outputs": [
        {
          "output_type": "display_data",
          "data": {
            "text/plain": [
              "<Figure size 432x288 with 1 Axes>"
            ],
            "image/png": "[encoded data removed]"
          },
          "metadata": {}
        }
      ]
    },
    {
      "cell_type": "markdown",
      "source": [
        "**TEAM THAT WIN BY HIGHEST RUN MARGIN/RUN CHASE IN OVER ALL IPL**"
      ],
      "metadata": {
        "id": "LfZhP32rr8Pr"
      }
    },
    {
      "cell_type": "code",
      "source": [
        "matches_df.WonBy.unique()"
      ],
      "metadata": {
        "colab": {
          "base_uri": "https://localhost:8080/"
        },
        "id": "aKTH8AuFrur7",
        "outputId": "e9469857-39a5-42d4-b910-be30b05e114e"
      },
      "execution_count": null,
      "outputs": [
        {
          "output_type": "execute_result",
          "data": {
            "text/plain": [
              "array(['Wickets', 'Runs'], dtype=object)"
            ]
          },
          "metadata": {},
          "execution_count": 93
        }
      ]
    },
    {
      "cell_type": "code",
      "source": [
        "margin=matches_df.groupby(['ID','WinningTeam']).apply(lambda x: x[x[\"WonBy\"]=='Runs']['Margin'].sum())\n",
        "margin.sort_values(ascending=False).head(5)"
      ],
      "metadata": {
        "colab": {
          "base_uri": "https://localhost:8080/"
        },
        "id": "QpUzXowbsVLn",
        "outputId": "673bcb71-937d-43ba-917e-5f9d7c6854e4"
      },
      "execution_count": 63,
      "outputs": [
        {
          "output_type": "execute_result",
          "data": {
            "text/plain": [
              "ID       WinningTeam                \n",
              "1304101  Chennai Super Kings            91\n",
              "1304099  Lucknow Super Giants           75\n",
              "1304100  Royal Challengers Bangalore    67\n",
              "1304103  Gujarat Titans                 62\n",
              "1304051  Rajasthan Royals               61\n",
              "dtype: int64"
            ]
          },
          "metadata": {},
          "execution_count": 63
        }
      ]
    },
    {
      "cell_type": "markdown",
      "source": [
        "**HIGHEST RUN SCORER IN POWER PLAY AND DEATH OVERS**"
      ],
      "metadata": {
        "id": "RSDW3hPrwLYN"
      }
    },
    {
      "cell_type": "markdown",
      "source": [
        "**POWER PLAY OVERS**"
      ],
      "metadata": {
        "id": "-Vu1sC4XwkxH"
      }
    },
    {
      "cell_type": "code",
      "source": [
        "ball_df.groupby('batter').apply(lambda x: x[x[\"overs\"].isin([1,2,3,4,5,6])]['total_run'].sum()).nlargest(1)"
      ],
      "metadata": {
        "colab": {
          "base_uri": "https://localhost:8080/"
        },
        "id": "GDcPzmrGvLKZ",
        "outputId": "74d5522f-498b-49fa-c988-963693665c60"
      },
      "execution_count": null,
      "outputs": [
        {
          "output_type": "execute_result",
          "data": {
            "text/plain": [
              "batter\n",
              "JC Buttler    295\n",
              "dtype: int64"
            ]
          },
          "metadata": {},
          "execution_count": 96
        }
      ]
    },
    {
      "cell_type": "markdown",
      "source": [
        "**DEATH OVERS**"
      ],
      "metadata": {
        "id": "mRvBRJKTwqWF"
      }
    },
    {
      "cell_type": "code",
      "source": [
        "ball_df.groupby('batter').apply(lambda x: x[x[\"overs\"].isin([16,17,18,19,20])]['total_run'].sum()).nlargest(1)"
      ],
      "metadata": {
        "colab": {
          "base_uri": "https://localhost:8080/"
        },
        "id": "8m8f2ml1wuDA",
        "outputId": "bbacb956-07fb-48e5-8de3-ec6ab1f71e0d"
      },
      "execution_count": null,
      "outputs": [
        {
          "output_type": "execute_result",
          "data": {
            "text/plain": [
              "batter\n",
              "SO Hetmyer    227\n",
              "dtype: int64"
            ]
          },
          "metadata": {},
          "execution_count": 97
        }
      ]
    },
    {
      "cell_type": "markdown",
      "source": [
        "**MOST RUN SCORER PLAYER IN LAST 2 OVER**"
      ],
      "metadata": {
        "id": "-gp0dcJbK8IN"
      }
    },
    {
      "cell_type": "code",
      "source": [
        "ball_df.groupby('batter').apply(lambda x: x[x[\"overs\"].isin([19,20])]['total_run'].sum()).nlargest(1)"
      ],
      "metadata": {
        "colab": {
          "base_uri": "https://localhost:8080/"
        },
        "id": "_WGBQTxsK4C-",
        "outputId": "8bd4fda3-08a0-4aab-bfa9-b4028edfc77e"
      },
      "execution_count": 67,
      "outputs": [
        {
          "output_type": "execute_result",
          "data": {
            "text/plain": [
              "batter\n",
              "KD Karthik    72\n",
              "dtype: int64"
            ]
          },
          "metadata": {},
          "execution_count": 67
        }
      ]
    },
    {
      "cell_type": "markdown",
      "source": [
        "**MOST RUNS SCORED IN 19TH AND 20TH OVER**"
      ],
      "metadata": {
        "id": "CKOMg7Kqw9Q_"
      }
    },
    {
      "cell_type": "code",
      "source": [
        "ball_df.groupby('BattingTeam').apply(lambda x: x[x[\"overs\"].isin([19,20])]['total_run'].sum()).nlargest(1)"
      ],
      "metadata": {
        "colab": {
          "base_uri": "https://localhost:8080/"
        },
        "id": "QR4bEKXGw37-",
        "outputId": "62697db3-84cf-4728-b876-7b9ca1c66aaa"
      },
      "execution_count": null,
      "outputs": [
        {
          "output_type": "execute_result",
          "data": {
            "text/plain": [
              "BattingTeam\n",
              "Chennai Super Kings    146\n",
              "dtype: int64"
            ]
          },
          "metadata": {},
          "execution_count": 98
        }
      ]
    },
    {
      "cell_type": "markdown",
      "source": [
        "**MATCH WINNER TEAMS AFTER WINNING TOSS**"
      ],
      "metadata": {
        "id": "IkuJhAM9xTRE"
      }
    },
    {
      "cell_type": "code",
      "source": [
        "list(matches_df['WinningTeam'][matches_df.apply(lambda x:x['TossWinner']==x['WinningTeam'],axis=1)].unique())"
      ],
      "metadata": {
        "colab": {
          "base_uri": "https://localhost:8080/"
        },
        "id": "PcnOU7RoxFyp",
        "outputId": "9d84d23f-3cc6-4366-ed96-95dd4537279e"
      },
      "execution_count": null,
      "outputs": [
        {
          "output_type": "execute_result",
          "data": {
            "text/plain": [
              "['Mumbai Indians',\n",
              " 'Delhi Capitals',\n",
              " 'Gujarat Titans',\n",
              " 'Royal Challengers Bangalore',\n",
              " 'Kolkata Knight Riders',\n",
              " 'Lucknow Super Giants',\n",
              " 'Sunrisers Hyderabad',\n",
              " 'Chennai Super Kings',\n",
              " 'Punjab Kings']"
            ]
          },
          "metadata": {},
          "execution_count": 99
        }
      ]
    },
    {
      "cell_type": "markdown",
      "source": [
        "**IS THERE ANY ADVANTAGES IN WINNING MATCH AFTER WINNING TOSS** "
      ],
      "metadata": {
        "id": "7A19FD7fxlmy"
      }
    },
    {
      "cell_type": "code",
      "source": [
        "a=matches_df['TossWinner']==matches_df['WinningTeam']\n",
        "plt.figure(figsize=(5,4))\n",
        "sns.countplot(a,saturation=0.20)\n",
        "plt.show()"
      ],
      "metadata": {
        "colab": {
          "base_uri": "https://localhost:8080/",
          "height": 320
        },
        "id": "zX0zyoGTxWOT",
        "outputId": "23210d16-4642-4574-cb16-fea1fda9476a"
      },
      "execution_count": null,
      "outputs": [
        {
          "output_type": "stream",
          "name": "stderr",
          "text": [
            "/usr/local/lib/python3.7/dist-packages/seaborn/_decorators.py:43: FutureWarning: Pass the following variable as a keyword arg: x. From version 0.12, the only valid positional argument will be `data`, and passing other arguments without an explicit keyword will result in an error or misinterpretation.\n",
            "  FutureWarning\n"
          ]
        },
        {
          "output_type": "display_data",
          "data": {
            "text/plain": [
              "<Figure size 360x288 with 1 Axes>"
            ],
            "image/png": "[encoded data removed]"
          },
          "metadata": {
            "needs_background": "light"
          }
        }
      ]
    },
    {
      "cell_type": "markdown",
      "source": [
        "**THE MOST SUCCESFULL IPL TEAMS**"
      ],
      "metadata": {
        "id": "tZlJOYU1yCW6"
      }
    },
    {
      "cell_type": "code",
      "source": [
        "winning_teams=matches_df['WinningTeam'].value_counts().rename_axis(\"Team\").reset_index(name='winning_count').head(10)"
      ],
      "metadata": {
        "id": "BRrZwI3axj8u"
      },
      "execution_count": 58,
      "outputs": []
    },
    {
      "cell_type": "markdown",
      "source": [
        "**STATS**"
      ],
      "metadata": {
        "id": "TPRpO3y0yqoP"
      }
    },
    {
      "cell_type": "code",
      "source": [
        "plt.title(\"WINNING STATS OF TEAMS\")\n",
        "sns.barplot(x='winning_count', y='Team', data=winning_teams);"
      ],
      "metadata": {
        "colab": {
          "base_uri": "https://localhost:8080/",
          "height": 296
        },
        "id": "JiOHD7UQyJEt",
        "outputId": "40922480-1bb3-4628-889f-241be2a7667b"
      },
      "execution_count": null,
      "outputs": [
        {
          "output_type": "display_data",
          "data": {
            "text/plain": [
              "<Figure size 432x288 with 1 Axes>"
            ],
            "image/png": "[encoded data removed]"
          },
          "metadata": {
            "needs_background": "light"
          }
        }
      ]
    },
    {
      "cell_type": "markdown",
      "source": [
        "**MOST SIXES AND MOST FOURS BY INDIVIDUAL AND TEAMS**"
      ],
      "metadata": {
        "id": "MxIabZ7EzMI4"
      }
    },
    {
      "cell_type": "markdown",
      "source": [
        "**SIXES INDIVIDUALLY**"
      ],
      "metadata": {
        "id": "DxhwjHMrzUaw"
      }
    },
    {
      "cell_type": "code",
      "source": [
        "sixes=ball_df.groupby('batter').apply(lambda x: x[x[\"batsman_run\"]==6]['batsman_run'].sum()).nlargest(1)\n",
        "sixes"
      ],
      "metadata": {
        "colab": {
          "base_uri": "https://localhost:8080/"
        },
        "id": "UhIRKehYyb81",
        "outputId": "209af565-d49d-4620-a656-584f59d90421"
      },
      "execution_count": null,
      "outputs": [
        {
          "output_type": "execute_result",
          "data": {
            "text/plain": [
              "batter\n",
              "JC Buttler    222\n",
              "dtype: int64"
            ]
          },
          "metadata": {},
          "execution_count": 113
        }
      ]
    },
    {
      "cell_type": "markdown",
      "source": [
        "**FOURS INDIVIDUALLY**"
      ],
      "metadata": {
        "id": "3eB2N9agza-A"
      }
    },
    {
      "cell_type": "code",
      "source": [
        "fours=ball_df.groupby('batter').apply(lambda x: x[x[\"batsman_run\"]==4]['batsman_run'].sum()).nlargest(1)\n",
        "fours"
      ],
      "metadata": {
        "colab": {
          "base_uri": "https://localhost:8080/"
        },
        "id": "3dZ_zpM5zdSJ",
        "outputId": "1e4e52d0-fded-452b-b91b-f549aad4a9f8"
      },
      "execution_count": null,
      "outputs": [
        {
          "output_type": "execute_result",
          "data": {
            "text/plain": [
              "batter\n",
              "JC Buttler    228\n",
              "dtype: int64"
            ]
          },
          "metadata": {},
          "execution_count": 114
        }
      ]
    },
    {
      "cell_type": "markdown",
      "source": [
        "**SIXES BY TEAMS**"
      ],
      "metadata": {
        "id": "rGgAGywF123d"
      }
    },
    {
      "cell_type": "code",
      "source": [
        "ball_df.groupby('BattingTeam').apply(lambda x: x[x[\"batsman_run\"]==6]['batsman_run'].sum()).nlargest(1)"
      ],
      "metadata": {
        "colab": {
          "base_uri": "https://localhost:8080/"
        },
        "id": "PXsYuxlt1W3l",
        "outputId": "6be4a109-39ab-4131-9638-cae558dc280d"
      },
      "execution_count": null,
      "outputs": [
        {
          "output_type": "execute_result",
          "data": {
            "text/plain": [
              "BattingTeam\n",
              "Rajasthan Royals    648\n",
              "dtype: int64"
            ]
          },
          "metadata": {},
          "execution_count": 116
        }
      ]
    },
    {
      "cell_type": "markdown",
      "source": [
        "**FOURS BY TEAMS**"
      ],
      "metadata": {
        "id": "8qo_NEj211km"
      }
    },
    {
      "cell_type": "code",
      "source": [
        "ball_df.groupby('BattingTeam').apply(lambda x: x[x[\"batsman_run\"]==4]['batsman_run'].sum()).nlargest(1)"
      ],
      "metadata": {
        "colab": {
          "base_uri": "https://localhost:8080/"
        },
        "id": "66o_JA6N12I6",
        "outputId": "9dccd8a2-9226-463e-f574-d3d530a5b7d8"
      },
      "execution_count": null,
      "outputs": [
        {
          "output_type": "execute_result",
          "data": {
            "text/plain": [
              "BattingTeam\n",
              "Gujarat Titans    780\n",
              "dtype: int64"
            ]
          },
          "metadata": {},
          "execution_count": 117
        }
      ]
    },
    {
      "cell_type": "markdown",
      "source": [
        "**MOST 50+ 100+ PARTNERSHIPS BY DUO**"
      ],
      "metadata": {
        "id": "sOgJ2XM-2LtK"
      }
    },
    {
      "cell_type": "markdown",
      "source": [
        "**50+ DUO**"
      ],
      "metadata": {
        "id": "vsT3ixwv2V0F"
      }
    },
    {
      "cell_type": "code",
      "source": [
        "duo=ball_df.groupby(['ID','batter','non-striker'])['total_run'].sum().reset_index()\n",
        "duo_50=duo[duo['total_run']>50 ].sort_values(by=['total_run'],ascending=False)\n",
        "duo_50"
      ],
      "metadata": {
        "colab": {
          "base_uri": "https://localhost:8080/",
          "height": 332
        },
        "id": "HiUDlKa22GGQ",
        "outputId": "6f9c2759-66dc-4999-cb2a-5fcdfe04033e"
      },
      "execution_count": 33,
      "outputs": [
        {
          "output_type": "execute_result",
          "data": {
            "text/plain": [
              "           ID           batter      non-striker  total_run\n",
              "1176  1304092       RD Gaikwad        DP Conway        101\n",
              "850   1304080       JC Buttler       D Padikkal        100\n",
              "1478  1304104         MR Marsh        DA Warner         92\n",
              "550   1304068           S Dube       RV Uthappa         87\n",
              "1166  1304092        DP Conway       RD Gaikwad         81\n",
              "548   1304068       RV Uthappa           S Dube         78\n",
              "46    1304049     F du Plessis          V Kohli         78\n",
              "170   1304054       AD Russell      SW Billings         74\n",
              "744   1304076       JC Buttler       D Padikkal         71\n",
              "1268  1304096         R Powell        DA Warner         69\n",
              "674   1304073       KD Karthik    Shahbaz Ahmed         66\n",
              "1384  1304101        DP Conway       RD Gaikwad         65\n",
              "972   1304084         S Dhawan    PBB Rajapaksa         65\n",
              "403   1304062     Shubman Gill  B Sai Sudharsan         64\n",
              "741   1304076         AJ Finch          SS Iyer         64\n",
              "371   1304061          PP Shaw        DA Warner         63\n",
              "628   1304071      RA Tripathi       AK Markram         59\n",
              "442   1304064         SA Yadav       JD Unadkat         59\n",
              "270   1304057   LS Livingstone         S Dhawan         58\n",
              "408   1304063  Abhishek Sharma    KS Williamson         57\n",
              "350   1304060       PJ Cummins          VR Iyer         57\n",
              "465   1304065          PP Shaw        DA Warner         56\n",
              "161   1304053        Q de Kock         KL Rahul         55\n",
              "1360  1304100     F du Plessis       RM Patidar         55\n",
              "848   1304080       D Padikkal       JC Buttler         55\n",
              "1301  1304097          WP Saha     Shubman Gill         54\n",
              "1011  1304086  Abhishek Sharma       AK Markram         54\n",
              "1143  1304091         DJ Hooda         KL Rahul         54\n",
              "571   1304069       MA Agarwal         S Dhawan         54\n",
              "1257  1304096        DA Warner         R Powell         53\n",
              "1105  1304089       RM Patidar          V Kohli         53\n",
              "205   1304055       JC Buttler        SV Samson         52\n",
              "1293  1304097     Shubman Gill          WP Saha         52\n",
              "1472  1304104        DA Warner         MR Marsh         52\n",
              "66    1304050         DJ Hooda         A Badoni         51\n",
              "299   1304058         DJ Hooda         KL Rahul         51\n",
              "6     1304047         MS Dhoni        RA Jadeja         51"
            ],
            "text/html": [
              "\n",
              "  <div id=\"df-0c596a62-e75f-44a8-af09-c9daf434610e\">\n",
              "    <div class=\"colab-df-container\">\n",
              "      <div>\n",
              "<style scoped>\n",
              "    .dataframe tbody tr th:only-of-type {\n",
              "        vertical-align: middle;\n",
              "    }\n",
              "\n",
              "    .dataframe tbody tr th {\n",
              "        vertical-align: top;\n",
              "    }\n",
              "\n",
              "    .dataframe thead th {\n",
              "        text-align: right;\n",
              "    }\n",
              "</style>\n",
              "<table border=\"1\" class=\"dataframe\">\n",
              "  <thead>\n",
              "    <tr style=\"text-align: right;\">\n",
              "      <th></th>\n",
              "      <th>ID</th>\n",
              "      <th>batter</th>\n",
              "      <th>non-striker</th>\n",
              "      <th>total_run</th>\n",
              "    </tr>\n",
              "  </thead>\n",
              "  <tbody>\n",
              "    <tr>\n",
              "      <th>1176</th>\n",
              "      <td>1304092</td>\n",
              "      <td>RD Gaikwad</td>\n",
              "      <td>DP Conway</td>\n",
              "      <td>101</td>\n",
              "    </tr>\n",
              "    <tr>\n",
              "      <th>850</th>\n",
              "      <td>1304080</td>\n",
              "      <td>JC Buttler</td>\n",
              "      <td>D Padikkal</td>\n",
              "      <td>100</td>\n",
              "    </tr>\n",
              "    <tr>\n",
              "      <th>1478</th>\n",
              "      <td>1304104</td>\n",
              "      <td>MR Marsh</td>\n",
              "      <td>DA Warner</td>\n",
              "      <td>92</td>\n",
              "    </tr>\n",
              "    <tr>\n",
              "      <th>550</th>\n",
              "      <td>1304068</td>\n",
              "      <td>S Dube</td>\n",
              "      <td>RV Uthappa</td>\n",
              "      <td>87</td>\n",
              "    </tr>\n",
              "    <tr>\n",
              "      <th>1166</th>\n",
              "      <td>1304092</td>\n",
              "      <td>DP Conway</td>\n",
              "      <td>RD Gaikwad</td>\n",
              "      <td>81</td>\n",
              "    </tr>\n",
              "    <tr>\n",
              "      <th>548</th>\n",
              "      <td>1304068</td>\n",
              "      <td>RV Uthappa</td>\n",
              "      <td>S Dube</td>\n",
              "      <td>78</td>\n",
              "    </tr>\n",
              "    <tr>\n",
              "      <th>46</th>\n",
              "      <td>1304049</td>\n",
              "      <td>F du Plessis</td>\n",
              "      <td>V Kohli</td>\n",
              "      <td>78</td>\n",
              "    </tr>\n",
              "    <tr>\n",
              "      <th>170</th>\n",
              "      <td>1304054</td>\n",
              "      <td>AD Russell</td>\n",
              "      <td>SW Billings</td>\n",
              "      <td>74</td>\n",
              "    </tr>\n",
              "    <tr>\n",
              "      <th>744</th>\n",
              "      <td>1304076</td>\n",
              "      <td>JC Buttler</td>\n",
              "      <td>D Padikkal</td>\n",
              "      <td>71</td>\n",
              "    </tr>\n",
              "    <tr>\n",
              "      <th>1268</th>\n",
              "      <td>1304096</td>\n",
              "      <td>R Powell</td>\n",
              "      <td>DA Warner</td>\n",
              "      <td>69</td>\n",
              "    </tr>\n",
              "    <tr>\n",
              "      <th>674</th>\n",
              "      <td>1304073</td>\n",
              "      <td>KD Karthik</td>\n",
              "      <td>Shahbaz Ahmed</td>\n",
              "      <td>66</td>\n",
              "    </tr>\n",
              "    <tr>\n",
              "      <th>1384</th>\n",
              "      <td>1304101</td>\n",
              "      <td>DP Conway</td>\n",
              "      <td>RD Gaikwad</td>\n",
              "      <td>65</td>\n",
              "    </tr>\n",
              "    <tr>\n",
              "      <th>972</th>\n",
              "      <td>1304084</td>\n",
              "      <td>S Dhawan</td>\n",
              "      <td>PBB Rajapaksa</td>\n",
              "      <td>65</td>\n",
              "    </tr>\n",
              "    <tr>\n",
              "      <th>403</th>\n",
              "      <td>1304062</td>\n",
              "      <td>Shubman Gill</td>\n",
              "      <td>B Sai Sudharsan</td>\n",
              "      <td>64</td>\n",
              "    </tr>\n",
              "    <tr>\n",
              "      <th>741</th>\n",
              "      <td>1304076</td>\n",
              "      <td>AJ Finch</td>\n",
              "      <td>SS Iyer</td>\n",
              "      <td>64</td>\n",
              "    </tr>\n",
              "    <tr>\n",
              "      <th>371</th>\n",
              "      <td>1304061</td>\n",
              "      <td>PP Shaw</td>\n",
              "      <td>DA Warner</td>\n",
              "      <td>63</td>\n",
              "    </tr>\n",
              "    <tr>\n",
              "      <th>628</th>\n",
              "      <td>1304071</td>\n",
              "      <td>RA Tripathi</td>\n",
              "      <td>AK Markram</td>\n",
              "      <td>59</td>\n",
              "    </tr>\n",
              "    <tr>\n",
              "      <th>442</th>\n",
              "      <td>1304064</td>\n",
              "      <td>SA Yadav</td>\n",
              "      <td>JD Unadkat</td>\n",
              "      <td>59</td>\n",
              "    </tr>\n",
              "    <tr>\n",
              "      <th>270</th>\n",
              "      <td>1304057</td>\n",
              "      <td>LS Livingstone</td>\n",
              "      <td>S Dhawan</td>\n",
              "      <td>58</td>\n",
              "    </tr>\n",
              "    <tr>\n",
              "      <th>408</th>\n",
              "      <td>1304063</td>\n",
              "      <td>Abhishek Sharma</td>\n",
              "      <td>KS Williamson</td>\n",
              "      <td>57</td>\n",
              "    </tr>\n",
              "    <tr>\n",
              "      <th>350</th>\n",
              "      <td>1304060</td>\n",
              "      <td>PJ Cummins</td>\n",
              "      <td>VR Iyer</td>\n",
              "      <td>57</td>\n",
              "    </tr>\n",
              "    <tr>\n",
              "      <th>465</th>\n",
              "      <td>1304065</td>\n",
              "      <td>PP Shaw</td>\n",
              "      <td>DA Warner</td>\n",
              "      <td>56</td>\n",
              "    </tr>\n",
              "    <tr>\n",
              "      <th>161</th>\n",
              "      <td>1304053</td>\n",
              "      <td>Q de Kock</td>\n",
              "      <td>KL Rahul</td>\n",
              "      <td>55</td>\n",
              "    </tr>\n",
              "    <tr>\n",
              "      <th>1360</th>\n",
              "      <td>1304100</td>\n",
              "      <td>F du Plessis</td>\n",
              "      <td>RM Patidar</td>\n",
              "      <td>55</td>\n",
              "    </tr>\n",
              "    <tr>\n",
              "      <th>848</th>\n",
              "      <td>1304080</td>\n",
              "      <td>D Padikkal</td>\n",
              "      <td>JC Buttler</td>\n",
              "      <td>55</td>\n",
              "    </tr>\n",
              "    <tr>\n",
              "      <th>1301</th>\n",
              "      <td>1304097</td>\n",
              "      <td>WP Saha</td>\n",
              "      <td>Shubman Gill</td>\n",
              "      <td>54</td>\n",
              "    </tr>\n",
              "    <tr>\n",
              "      <th>1011</th>\n",
              "      <td>1304086</td>\n",
              "      <td>Abhishek Sharma</td>\n",
              "      <td>AK Markram</td>\n",
              "      <td>54</td>\n",
              "    </tr>\n",
              "    <tr>\n",
              "      <th>1143</th>\n",
              "      <td>1304091</td>\n",
              "      <td>DJ Hooda</td>\n",
              "      <td>KL Rahul</td>\n",
              "      <td>54</td>\n",
              "    </tr>\n",
              "    <tr>\n",
              "      <th>571</th>\n",
              "      <td>1304069</td>\n",
              "      <td>MA Agarwal</td>\n",
              "      <td>S Dhawan</td>\n",
              "      <td>54</td>\n",
              "    </tr>\n",
              "    <tr>\n",
              "      <th>1257</th>\n",
              "      <td>1304096</td>\n",
              "      <td>DA Warner</td>\n",
              "      <td>R Powell</td>\n",
              "      <td>53</td>\n",
              "    </tr>\n",
              "    <tr>\n",
              "      <th>1105</th>\n",
              "      <td>1304089</td>\n",
              "      <td>RM Patidar</td>\n",
              "      <td>V Kohli</td>\n",
              "      <td>53</td>\n",
              "    </tr>\n",
              "    <tr>\n",
              "      <th>205</th>\n",
              "      <td>1304055</td>\n",
              "      <td>JC Buttler</td>\n",
              "      <td>SV Samson</td>\n",
              "      <td>52</td>\n",
              "    </tr>\n",
              "    <tr>\n",
              "      <th>1293</th>\n",
              "      <td>1304097</td>\n",
              "      <td>Shubman Gill</td>\n",
              "      <td>WP Saha</td>\n",
              "      <td>52</td>\n",
              "    </tr>\n",
              "    <tr>\n",
              "      <th>1472</th>\n",
              "      <td>1304104</td>\n",
              "      <td>DA Warner</td>\n",
              "      <td>MR Marsh</td>\n",
              "      <td>52</td>\n",
              "    </tr>\n",
              "    <tr>\n",
              "      <th>66</th>\n",
              "      <td>1304050</td>\n",
              "      <td>DJ Hooda</td>\n",
              "      <td>A Badoni</td>\n",
              "      <td>51</td>\n",
              "    </tr>\n",
              "    <tr>\n",
              "      <th>299</th>\n",
              "      <td>1304058</td>\n",
              "      <td>DJ Hooda</td>\n",
              "      <td>KL Rahul</td>\n",
              "      <td>51</td>\n",
              "    </tr>\n",
              "    <tr>\n",
              "      <th>6</th>\n",
              "      <td>1304047</td>\n",
              "      <td>MS Dhoni</td>\n",
              "      <td>RA Jadeja</td>\n",
              "      <td>51</td>\n",
              "    </tr>\n",
              "  </tbody>\n",
              "</table>\n",
              "</div>\n",
              "      <button class=\"colab-df-convert\" onclick=\"convertToInteractive('df-0c596a62-e75f-44a8-af09-c9daf434610e')\"\n",
              "              title=\"Convert this dataframe to an interactive table.\"\n",
              "              style=\"display:none;\">\n",
              "        \n",
              "  <svg xmlns=\"http://www.w3.org/2000/svg\" height=\"24px\"viewBox=\"0 0 24 24\"\n",
              "       width=\"24px\">\n",
              "    <path d=\"M0 0h24v24H0V0z\" fill=\"none\"/>\n",
              "    <path d=\"M18.56 5.44l.94 2.06.94-2.06 2.06-.94-2.06-.94-.94-2.06-.94 2.06-2.06.94zm-11 1L8.5 8.5l.94-2.06 2.06-.94-2.06-.94L8.5 2.5l-.94 2.06-2.06.94zm10 10l.94 2.06.94-2.06 2.06-.94-2.06-.94-.94-2.06-.94 2.06-2.06.94z\"/><path d=\"M17.41 7.96l-1.37-1.37c-.4-.4-.92-.59-1.43-.59-.52 0-1.04.2-1.43.59L10.3 9.45l-7.72 7.72c-.78.78-.78 2.05 0 2.83L4 21.41c.39.39.9.59 1.41.59.51 0 1.02-.2 1.41-.59l7.78-7.78 2.81-2.81c.8-.78.8-2.07 0-2.86zM5.41 20L4 18.59l7.72-7.72 1.47 1.35L5.41 20z\"/>\n",
              "  </svg>\n",
              "      </button>\n",
              "      \n",
              "  <style>\n",
              "    .colab-df-container {\n",
              "      display:flex;\n",
              "      flex-wrap:wrap;\n",
              "      gap: 12px;\n",
              "    }\n",
              "\n",
              "    .colab-df-convert {\n",
              "      background-color: #E8F0FE;\n",
              "      border: none;\n",
              "      border-radius: 50%;\n",
              "      cursor: pointer;\n",
              "      display: none;\n",
              "      fill: #1967D2;\n",
              "      height: 32px;\n",
              "      padding: 0 0 0 0;\n",
              "      width: 32px;\n",
              "    }\n",
              "\n",
              "    .colab-df-convert:hover {\n",
              "      background-color: #E2EBFA;\n",
              "      box-shadow: 0px 1px 2px rgba(60, 64, 67, 0.3), 0px 1px 3px 1px rgba(60, 64, 67, 0.15);\n",
              "      fill: #174EA6;\n",
              "    }\n",
              "\n",
              "    [theme=dark] .colab-df-convert {\n",
              "      background-color: #3B4455;\n",
              "      fill: #D2E3FC;\n",
              "    }\n",
              "\n",
              "    [theme=dark] .colab-df-convert:hover {\n",
              "      background-color: #434B5C;\n",
              "      box-shadow: 0px 1px 3px 1px rgba(0, 0, 0, 0.15);\n",
              "      filter: drop-shadow(0px 1px 2px rgba(0, 0, 0, 0.3));\n",
              "      fill: #FFFFFF;\n",
              "    }\n",
              "  </style>\n",
              "\n",
              "      <script>\n",
              "        const buttonEl =\n",
              "          document.querySelector('#df-0c596a62-e75f-44a8-af09-c9daf434610e button.colab-df-convert');\n",
              "        buttonEl.style.display =\n",
              "          google.colab.kernel.accessAllowed ? 'block' : 'none';\n",
              "\n",
              "        async function convertToInteractive(key) {\n",
              "          const element = document.querySelector('#df-0c596a62-e75f-44a8-af09-c9daf434610e');\n",
              "          const dataTable =\n",
              "            await google.colab.kernel.invokeFunction('convertToInteractive',\n",
              "                                                     [key], {});\n",
              "          if (!dataTable) return;\n",
              "\n",
              "          const docLinkHtml = 'Like what you see? Visit the ' +\n",
              "            '<a target=\"_blank\" href=https://colab.research.google.com/notebooks/data_table.ipynb>data table notebook</a>'\n",
              "            + ' to learn more about interactive tables.';\n",
              "          element.innerHTML = '';\n",
              "          dataTable['output_type'] = 'display_data';\n",
              "          await google.colab.output.renderOutput(dataTable, element);\n",
              "          const docLink = document.createElement('div');\n",
              "          docLink.innerHTML = docLinkHtml;\n",
              "          element.appendChild(docLink);\n",
              "        }\n",
              "      </script>\n",
              "    </div>\n",
              "  </div>\n",
              "  "
            ]
          },
          "metadata": {},
          "execution_count": 33
        }
      ]
    },
    {
      "cell_type": "markdown",
      "source": [
        "**100+ DUO**"
      ],
      "metadata": {
        "id": "BGJCEwoD2Yox"
      }
    },
    {
      "cell_type": "code",
      "source": [
        "duo_100=duo[duo['total_run']>=100]\n",
        "duo_100"
      ],
      "metadata": {
        "colab": {
          "base_uri": "https://localhost:8080/",
          "height": 112
        },
        "id": "B6i0VVjH2UX3",
        "outputId": "714036cb-443a-4ea2-8799-64097e89d3ed"
      },
      "execution_count": 20,
      "outputs": [
        {
          "output_type": "execute_result",
          "data": {
            "text/plain": [
              "           ID      batter non-striker  total_run\n",
              "850   1304080  JC Buttler  D Padikkal        100\n",
              "1176  1304092  RD Gaikwad   DP Conway        101"
            ],
            "text/html": [
              "\n",
              "  <div id=\"df-fcab5e69-a03a-4fc0-b038-879100be08e8\">\n",
              "    <div class=\"colab-df-container\">\n",
              "      <div>\n",
              "<style scoped>\n",
              "    .dataframe tbody tr th:only-of-type {\n",
              "        vertical-align: middle;\n",
              "    }\n",
              "\n",
              "    .dataframe tbody tr th {\n",
              "        vertical-align: top;\n",
              "    }\n",
              "\n",
              "    .dataframe thead th {\n",
              "        text-align: right;\n",
              "    }\n",
              "</style>\n",
              "<table border=\"1\" class=\"dataframe\">\n",
              "  <thead>\n",
              "    <tr style=\"text-align: right;\">\n",
              "      <th></th>\n",
              "      <th>ID</th>\n",
              "      <th>batter</th>\n",
              "      <th>non-striker</th>\n",
              "      <th>total_run</th>\n",
              "    </tr>\n",
              "  </thead>\n",
              "  <tbody>\n",
              "    <tr>\n",
              "      <th>850</th>\n",
              "      <td>1304080</td>\n",
              "      <td>JC Buttler</td>\n",
              "      <td>D Padikkal</td>\n",
              "      <td>100</td>\n",
              "    </tr>\n",
              "    <tr>\n",
              "      <th>1176</th>\n",
              "      <td>1304092</td>\n",
              "      <td>RD Gaikwad</td>\n",
              "      <td>DP Conway</td>\n",
              "      <td>101</td>\n",
              "    </tr>\n",
              "  </tbody>\n",
              "</table>\n",
              "</div>\n",
              "      <button class=\"colab-df-convert\" onclick=\"convertToInteractive('df-fcab5e69-a03a-4fc0-b038-879100be08e8')\"\n",
              "              title=\"Convert this dataframe to an interactive table.\"\n",
              "              style=\"display:none;\">\n",
              "        \n",
              "  <svg xmlns=\"http://www.w3.org/2000/svg\" height=\"24px\"viewBox=\"0 0 24 24\"\n",
              "       width=\"24px\">\n",
              "    <path d=\"M0 0h24v24H0V0z\" fill=\"none\"/>\n",
              "    <path d=\"M18.56 5.44l.94 2.06.94-2.06 2.06-.94-2.06-.94-.94-2.06-.94 2.06-2.06.94zm-11 1L8.5 8.5l.94-2.06 2.06-.94-2.06-.94L8.5 2.5l-.94 2.06-2.06.94zm10 10l.94 2.06.94-2.06 2.06-.94-2.06-.94-.94-2.06-.94 2.06-2.06.94z\"/><path d=\"M17.41 7.96l-1.37-1.37c-.4-.4-.92-.59-1.43-.59-.52 0-1.04.2-1.43.59L10.3 9.45l-7.72 7.72c-.78.78-.78 2.05 0 2.83L4 21.41c.39.39.9.59 1.41.59.51 0 1.02-.2 1.41-.59l7.78-7.78 2.81-2.81c.8-.78.8-2.07 0-2.86zM5.41 20L4 18.59l7.72-7.72 1.47 1.35L5.41 20z\"/>\n",
              "  </svg>\n",
              "      </button>\n",
              "      \n",
              "  <style>\n",
              "    .colab-df-container {\n",
              "      display:flex;\n",
              "      flex-wrap:wrap;\n",
              "      gap: 12px;\n",
              "    }\n",
              "\n",
              "    .colab-df-convert {\n",
              "      background-color: #E8F0FE;\n",
              "      border: none;\n",
              "      border-radius: 50%;\n",
              "      cursor: pointer;\n",
              "      display: none;\n",
              "      fill: #1967D2;\n",
              "      height: 32px;\n",
              "      padding: 0 0 0 0;\n",
              "      width: 32px;\n",
              "    }\n",
              "\n",
              "    .colab-df-convert:hover {\n",
              "      background-color: #E2EBFA;\n",
              "      box-shadow: 0px 1px 2px rgba(60, 64, 67, 0.3), 0px 1px 3px 1px rgba(60, 64, 67, 0.15);\n",
              "      fill: #174EA6;\n",
              "    }\n",
              "\n",
              "    [theme=dark] .colab-df-convert {\n",
              "      background-color: #3B4455;\n",
              "      fill: #D2E3FC;\n",
              "    }\n",
              "\n",
              "    [theme=dark] .colab-df-convert:hover {\n",
              "      background-color: #434B5C;\n",
              "      box-shadow: 0px 1px 3px 1px rgba(0, 0, 0, 0.15);\n",
              "      filter: drop-shadow(0px 1px 2px rgba(0, 0, 0, 0.3));\n",
              "      fill: #FFFFFF;\n",
              "    }\n",
              "  </style>\n",
              "\n",
              "      <script>\n",
              "        const buttonEl =\n",
              "          document.querySelector('#df-fcab5e69-a03a-4fc0-b038-879100be08e8 button.colab-df-convert');\n",
              "        buttonEl.style.display =\n",
              "          google.colab.kernel.accessAllowed ? 'block' : 'none';\n",
              "\n",
              "        async function convertToInteractive(key) {\n",
              "          const element = document.querySelector('#df-fcab5e69-a03a-4fc0-b038-879100be08e8');\n",
              "          const dataTable =\n",
              "            await google.colab.kernel.invokeFunction('convertToInteractive',\n",
              "                                                     [key], {});\n",
              "          if (!dataTable) return;\n",
              "\n",
              "          const docLinkHtml = 'Like what you see? Visit the ' +\n",
              "            '<a target=\"_blank\" href=https://colab.research.google.com/notebooks/data_table.ipynb>data table notebook</a>'\n",
              "            + ' to learn more about interactive tables.';\n",
              "          element.innerHTML = '';\n",
              "          dataTable['output_type'] = 'display_data';\n",
              "          await google.colab.output.renderOutput(dataTable, element);\n",
              "          const docLink = document.createElement('div');\n",
              "          docLink.innerHTML = docLinkHtml;\n",
              "          element.appendChild(docLink);\n",
              "        }\n",
              "      </script>\n",
              "    </div>\n",
              "  </div>\n",
              "  "
            ]
          },
          "metadata": {},
          "execution_count": 20
        }
      ]
    },
    {
      "cell_type": "markdown",
      "source": [
        "##**SOME OTHER ANALYSIS**"
      ],
      "metadata": {
        "id": "HK-Jh0vt716K"
      }
    },
    {
      "cell_type": "markdown",
      "source": [
        "**MOST LIKELY DESICION AFTER WINNING TOSS**"
      ],
      "metadata": {
        "id": "r3rNG90v78bR"
      }
    },
    {
      "cell_type": "code",
      "source": [
        "toss_decision = matches_df['TossDecision'].value_counts()\n",
        "toss_decision.head()"
      ],
      "metadata": {
        "colab": {
          "base_uri": "https://localhost:8080/"
        },
        "id": "OhbQAkqn2bEb",
        "outputId": "03304ed6-eceb-43ba-d346-c934c26ddce8"
      },
      "execution_count": 37,
      "outputs": [
        {
          "output_type": "execute_result",
          "data": {
            "text/plain": [
              "field    52\n",
              "bat       7\n",
              "Name: TossDecision, dtype: int64"
            ]
          },
          "metadata": {},
          "execution_count": 37
        }
      ]
    },
    {
      "cell_type": "code",
      "source": [
        "labels = (np.array(toss_decision.index))\n",
        "sizes = (np.array((toss_decision / toss_decision.sum())*100))\n",
        "colors = ['orange', 'lightgreen']\n",
        "plt.pie(sizes, labels=labels, colors=colors,\n",
        "        autopct='%1.1f%%', shadow=True, startangle=90)\n",
        "plt.title(\"Toss decision percentage\",fontweight=\"bold\",fontsize=15)\n",
        "plt.show()"
      ],
      "metadata": {
        "colab": {
          "base_uri": "https://localhost:8080/",
          "height": 266
        },
        "id": "dBhlp4Ns93tW",
        "outputId": "391e7ac7-13b9-4f99-e7ba-a7ca41652f54"
      },
      "execution_count": 38,
      "outputs": [
        {
          "output_type": "display_data",
          "data": {
            "text/plain": [
              "<Figure size 432x288 with 1 Axes>"
            ],
            "image/png": "[encoded data removed]"
          },
          "metadata": {}
        }
      ]
    },
    {
      "cell_type": "markdown",
      "source": [
        "**MOST LIKELY DESICION AFTER WINNING TOSS TEAM-WISE**"
      ],
      "metadata": {
        "id": "03Snz_Du-CvN"
      }
    },
    {
      "cell_type": "code",
      "source": [
        "toss_decision = matches_df.groupby('TossWinner')['TossDecision'].value_counts().sort_index()\n",
        "toss_decision"
      ],
      "metadata": {
        "colab": {
          "base_uri": "https://localhost:8080/"
        },
        "id": "4AEpiFqz_eI8",
        "outputId": "174220e1-bd40-4a34-bf49-fbe136833d6b"
      },
      "execution_count": null,
      "outputs": [
        {
          "output_type": "execute_result",
          "data": {
            "text/plain": [
              "TossWinner                   TossDecision\n",
              "Chennai Super Kings          field           4\n",
              "Delhi Capitals               field           8\n",
              "Gujarat Titans               bat             3\n",
              "                             field           5\n",
              "Kolkata Knight Riders        field           7\n",
              "Lucknow Super Giants         bat             1\n",
              "                             field           4\n",
              "Mumbai Indians               field           7\n",
              "Punjab Kings                 bat             1\n",
              "                             field           2\n",
              "Rajasthan Royals             field           1\n",
              "Royal Challengers Bangalore  bat             2\n",
              "                             field           5\n",
              "Sunrisers Hyderabad          field           9\n",
              "Name: TossDecision, dtype: int64"
            ]
          },
          "metadata": {},
          "execution_count": 148
        }
      ]
    },
    {
      "cell_type": "markdown",
      "source": [
        "**STATS**"
      ],
      "metadata": {
        "id": "jj8ZIa4zAHAx"
      }
    },
    {
      "cell_type": "code",
      "source": [
        "toss_decision.unstack().plot(kind = 'bar', figsize=(12,6), title = 'TossDecisions', xlabel = 'Seasons', ylabel = 'Percentage');"
      ],
      "metadata": {
        "colab": {
          "base_uri": "https://localhost:8080/",
          "height": 538
        },
        "id": "N3xcl9s7_RKb",
        "outputId": "47896292-18e4-4f57-ed59-2560717bcc36"
      },
      "execution_count": null,
      "outputs": [
        {
          "output_type": "display_data",
          "data": {
            "text/plain": [
              "<Figure size 864x432 with 1 Axes>"
            ],
            "image/png": "[encoded data removed]"
          },
          "metadata": {
            "needs_background": "light"
          }
        }
      ]
    },
    {
      "cell_type": "markdown",
      "source": [
        "**NO. OF MATCHES HOSTED BY DIFFERENT CITIES**"
      ],
      "metadata": {
        "id": "BR0w93s9RFzy"
      }
    },
    {
      "cell_type": "code",
      "source": [
        "city_ser = matches_df['City'].value_counts()\n",
        "\n",
        "city_df = pd.DataFrame(columns=['City', 'matches'])\n",
        "for items in city_ser.iteritems():\n",
        "    temp_df6 = pd.DataFrame({\n",
        "        'City':[items[0]],\n",
        "        'matches':[items[1]]\n",
        "    })\n",
        "    city_df = city_df.append(temp_df6, ignore_index=True)"
      ],
      "metadata": {
        "id": "IBYEzLcKQy-M"
      },
      "execution_count": null,
      "outputs": []
    },
    {
      "cell_type": "markdown",
      "source": [
        "**STATS**"
      ],
      "metadata": {
        "id": "iriBT23JRM7S"
      }
    },
    {
      "cell_type": "code",
      "source": [
        "plt.title(\"Cities that hosted IPL matches\")\n",
        "sns.barplot(x='matches', y='City', data=city_df, palette='Paired');"
      ],
      "metadata": {
        "colab": {
          "base_uri": "https://localhost:8080/",
          "height": 295
        },
        "id": "IxuZtgW8M32I",
        "outputId": "63a7f162-be44-43b9-c3b4-9d5b5fed0425"
      },
      "execution_count": null,
      "outputs": [
        {
          "output_type": "display_data",
          "data": {
            "text/plain": [
              "<Figure size 432x288 with 1 Axes>"
            ],
            "image/png": "[encoded data removed]"
          },
          "metadata": {
            "needs_background": "light"
          }
        }
      ]
    },
    {
      "cell_type": "markdown",
      "source": [
        "**BEST 3 PLAYERS OVERALL IPL 2022**"
      ],
      "metadata": {
        "id": "cPhWGetkXU-B"
      }
    },
    {
      "cell_type": "code",
      "source": [
        "runs=ball_df.groupby(['batter'])['batsman_run'].sum().reset_index()\n",
        "runs.columns=['Batsman','runs']\n",
        "y=runs.sort_values(by='runs',ascending=False).head(3).reset_index().drop('index',axis=1)\n",
        "y"
      ],
      "metadata": {
        "colab": {
          "base_uri": "https://localhost:8080/",
          "height": 143
        },
        "id": "EMTxvFZXSs6w",
        "outputId": "7e7bc7ca-b59e-432d-bcea-31a791ee2051"
      },
      "execution_count": null,
      "outputs": [
        {
          "output_type": "execute_result",
          "data": {
            "text/plain": [
              "      Batsman  runs\n",
              "0  JC Buttler   625\n",
              "1    KL Rahul   459\n",
              "2   DA Warner   427"
            ],
            "text/html": [
              "\n",
              "  <div id=\"df-c6bc9436-83e9-440c-8c82-2b960d02c494\">\n",
              "    <div class=\"colab-df-container\">\n",
              "      <div>\n",
              "<style scoped>\n",
              "    .dataframe tbody tr th:only-of-type {\n",
              "        vertical-align: middle;\n",
              "    }\n",
              "\n",
              "    .dataframe tbody tr th {\n",
              "        vertical-align: top;\n",
              "    }\n",
              "\n",
              "    .dataframe thead th {\n",
              "        text-align: right;\n",
              "    }\n",
              "</style>\n",
              "<table border=\"1\" class=\"dataframe\">\n",
              "  <thead>\n",
              "    <tr style=\"text-align: right;\">\n",
              "      <th></th>\n",
              "      <th>Batsman</th>\n",
              "      <th>runs</th>\n",
              "    </tr>\n",
              "  </thead>\n",
              "  <tbody>\n",
              "    <tr>\n",
              "      <th>0</th>\n",
              "      <td>JC Buttler</td>\n",
              "      <td>625</td>\n",
              "    </tr>\n",
              "    <tr>\n",
              "      <th>1</th>\n",
              "      <td>KL Rahul</td>\n",
              "      <td>459</td>\n",
              "    </tr>\n",
              "    <tr>\n",
              "      <th>2</th>\n",
              "      <td>DA Warner</td>\n",
              "      <td>427</td>\n",
              "    </tr>\n",
              "  </tbody>\n",
              "</table>\n",
              "</div>\n",
              "      <button class=\"colab-df-convert\" onclick=\"convertToInteractive('df-c6bc9436-83e9-440c-8c82-2b960d02c494')\"\n",
              "              title=\"Convert this dataframe to an interactive table.\"\n",
              "              style=\"display:none;\">\n",
              "        \n",
              "  <svg xmlns=\"http://www.w3.org/2000/svg\" height=\"24px\"viewBox=\"0 0 24 24\"\n",
              "       width=\"24px\">\n",
              "    <path d=\"M0 0h24v24H0V0z\" fill=\"none\"/>\n",
              "    <path d=\"M18.56 5.44l.94 2.06.94-2.06 2.06-.94-2.06-.94-.94-2.06-.94 2.06-2.06.94zm-11 1L8.5 8.5l.94-2.06 2.06-.94-2.06-.94L8.5 2.5l-.94 2.06-2.06.94zm10 10l.94 2.06.94-2.06 2.06-.94-2.06-.94-.94-2.06-.94 2.06-2.06.94z\"/><path d=\"M17.41 7.96l-1.37-1.37c-.4-.4-.92-.59-1.43-.59-.52 0-1.04.2-1.43.59L10.3 9.45l-7.72 7.72c-.78.78-.78 2.05 0 2.83L4 21.41c.39.39.9.59 1.41.59.51 0 1.02-.2 1.41-.59l7.78-7.78 2.81-2.81c.8-.78.8-2.07 0-2.86zM5.41 20L4 18.59l7.72-7.72 1.47 1.35L5.41 20z\"/>\n",
              "  </svg>\n",
              "      </button>\n",
              "      \n",
              "  <style>\n",
              "    .colab-df-container {\n",
              "      display:flex;\n",
              "      flex-wrap:wrap;\n",
              "      gap: 12px;\n",
              "    }\n",
              "\n",
              "    .colab-df-convert {\n",
              "      background-color: #E8F0FE;\n",
              "      border: none;\n",
              "      border-radius: 50%;\n",
              "      cursor: pointer;\n",
              "      display: none;\n",
              "      fill: #1967D2;\n",
              "      height: 32px;\n",
              "      padding: 0 0 0 0;\n",
              "      width: 32px;\n",
              "    }\n",
              "\n",
              "    .colab-df-convert:hover {\n",
              "      background-color: #E2EBFA;\n",
              "      box-shadow: 0px 1px 2px rgba(60, 64, 67, 0.3), 0px 1px 3px 1px rgba(60, 64, 67, 0.15);\n",
              "      fill: #174EA6;\n",
              "    }\n",
              "\n",
              "    [theme=dark] .colab-df-convert {\n",
              "      background-color: #3B4455;\n",
              "      fill: #D2E3FC;\n",
              "    }\n",
              "\n",
              "    [theme=dark] .colab-df-convert:hover {\n",
              "      background-color: #434B5C;\n",
              "      box-shadow: 0px 1px 3px 1px rgba(0, 0, 0, 0.15);\n",
              "      filter: drop-shadow(0px 1px 2px rgba(0, 0, 0, 0.3));\n",
              "      fill: #FFFFFF;\n",
              "    }\n",
              "  </style>\n",
              "\n",
              "      <script>\n",
              "        const buttonEl =\n",
              "          document.querySelector('#df-c6bc9436-83e9-440c-8c82-2b960d02c494 button.colab-df-convert');\n",
              "        buttonEl.style.display =\n",
              "          google.colab.kernel.accessAllowed ? 'block' : 'none';\n",
              "\n",
              "        async function convertToInteractive(key) {\n",
              "          const element = document.querySelector('#df-c6bc9436-83e9-440c-8c82-2b960d02c494');\n",
              "          const dataTable =\n",
              "            await google.colab.kernel.invokeFunction('convertToInteractive',\n",
              "                                                     [key], {});\n",
              "          if (!dataTable) return;\n",
              "\n",
              "          const docLinkHtml = 'Like what you see? Visit the ' +\n",
              "            '<a target=\"_blank\" href=https://colab.research.google.com/notebooks/data_table.ipynb>data table notebook</a>'\n",
              "            + ' to learn more about interactive tables.';\n",
              "          element.innerHTML = '';\n",
              "          dataTable['output_type'] = 'display_data';\n",
              "          await google.colab.output.renderOutput(dataTable, element);\n",
              "          const docLink = document.createElement('div');\n",
              "          docLink.innerHTML = docLinkHtml;\n",
              "          element.appendChild(docLink);\n",
              "        }\n",
              "      </script>\n",
              "    </div>\n",
              "  </div>\n",
              "  "
            ]
          },
          "metadata": {},
          "execution_count": 228
        }
      ]
    },
    {
      "cell_type": "markdown",
      "source": [
        "**STATS**"
      ],
      "metadata": {
        "id": "jM0VirPjXhB6"
      }
    },
    {
      "cell_type": "code",
      "source": [
        "ax=plt.axes()\n",
        "ax.set(facecolor='grey')\n",
        "sns.barplot(x=y['Batsman'],y=y['runs'],palette='rocket',saturation=1)"
      ],
      "metadata": {
        "colab": {
          "base_uri": "https://localhost:8080/",
          "height": 296
        },
        "id": "hp91GOrSWBdT",
        "outputId": "21368551-7aa3-4f6d-8e63-774d6a7b3eb4"
      },
      "execution_count": null,
      "outputs": [
        {
          "output_type": "execute_result",
          "data": {
            "text/plain": [
              "<matplotlib.axes._subplots.AxesSubplot at 0x7f76e5384b10>"
            ]
          },
          "metadata": {},
          "execution_count": 234
        },
        {
          "output_type": "display_data",
          "data": {
            "text/plain": [
              "<Figure size 432x288 with 1 Axes>"
            ],
            "image/png": "[encoded data removed]"
          },
          "metadata": {
            "needs_background": "light"
          }
        }
      ]
    },
    {
      "cell_type": "markdown",
      "source": [
        "**BEST 3 BOWLERS OVERALL IPL 2022**"
      ],
      "metadata": {
        "id": "HgNrXVHEZE4R"
      }
    },
    {
      "cell_type": "code",
      "source": [
        "ball=ball_df.groupby(['bowler'])['isWicketDelivery'].sum().reset_index()\n",
        "ball.columns=['Bowler','wicket']\n",
        "y=ball.sort_values(by='wicket',ascending=False).head(3).reset_index().drop('index',axis=1)\n",
        "y"
      ],
      "metadata": {
        "colab": {
          "base_uri": "https://localhost:8080/",
          "height": 143
        },
        "id": "qonT3idoWfFh",
        "outputId": "9fc3fd34-5670-4174-9998-25feda25e283"
      },
      "execution_count": null,
      "outputs": [
        {
          "output_type": "execute_result",
          "data": {
            "text/plain": [
              "         Bowler  wicket\n",
              "0     YS Chahal      25\n",
              "1  PWH de Silva      22\n",
              "2    AD Russell      18"
            ],
            "text/html": [
              "\n",
              "  <div id=\"df-74b0a045-c1ee-4aeb-a809-49544c00a5d4\">\n",
              "    <div class=\"colab-df-container\">\n",
              "      <div>\n",
              "<style scoped>\n",
              "    .dataframe tbody tr th:only-of-type {\n",
              "        vertical-align: middle;\n",
              "    }\n",
              "\n",
              "    .dataframe tbody tr th {\n",
              "        vertical-align: top;\n",
              "    }\n",
              "\n",
              "    .dataframe thead th {\n",
              "        text-align: right;\n",
              "    }\n",
              "</style>\n",
              "<table border=\"1\" class=\"dataframe\">\n",
              "  <thead>\n",
              "    <tr style=\"text-align: right;\">\n",
              "      <th></th>\n",
              "      <th>Bowler</th>\n",
              "      <th>wicket</th>\n",
              "    </tr>\n",
              "  </thead>\n",
              "  <tbody>\n",
              "    <tr>\n",
              "      <th>0</th>\n",
              "      <td>YS Chahal</td>\n",
              "      <td>25</td>\n",
              "    </tr>\n",
              "    <tr>\n",
              "      <th>1</th>\n",
              "      <td>PWH de Silva</td>\n",
              "      <td>22</td>\n",
              "    </tr>\n",
              "    <tr>\n",
              "      <th>2</th>\n",
              "      <td>AD Russell</td>\n",
              "      <td>18</td>\n",
              "    </tr>\n",
              "  </tbody>\n",
              "</table>\n",
              "</div>\n",
              "      <button class=\"colab-df-convert\" onclick=\"convertToInteractive('df-74b0a045-c1ee-4aeb-a809-49544c00a5d4')\"\n",
              "              title=\"Convert this dataframe to an interactive table.\"\n",
              "              style=\"display:none;\">\n",
              "        \n",
              "  <svg xmlns=\"http://www.w3.org/2000/svg\" height=\"24px\"viewBox=\"0 0 24 24\"\n",
              "       width=\"24px\">\n",
              "    <path d=\"M0 0h24v24H0V0z\" fill=\"none\"/>\n",
              "    <path d=\"M18.56 5.44l.94 2.06.94-2.06 2.06-.94-2.06-.94-.94-2.06-.94 2.06-2.06.94zm-11 1L8.5 8.5l.94-2.06 2.06-.94-2.06-.94L8.5 2.5l-.94 2.06-2.06.94zm10 10l.94 2.06.94-2.06 2.06-.94-2.06-.94-.94-2.06-.94 2.06-2.06.94z\"/><path d=\"M17.41 7.96l-1.37-1.37c-.4-.4-.92-.59-1.43-.59-.52 0-1.04.2-1.43.59L10.3 9.45l-7.72 7.72c-.78.78-.78 2.05 0 2.83L4 21.41c.39.39.9.59 1.41.59.51 0 1.02-.2 1.41-.59l7.78-7.78 2.81-2.81c.8-.78.8-2.07 0-2.86zM5.41 20L4 18.59l7.72-7.72 1.47 1.35L5.41 20z\"/>\n",
              "  </svg>\n",
              "      </button>\n",
              "      \n",
              "  <style>\n",
              "    .colab-df-container {\n",
              "      display:flex;\n",
              "      flex-wrap:wrap;\n",
              "      gap: 12px;\n",
              "    }\n",
              "\n",
              "    .colab-df-convert {\n",
              "      background-color: #E8F0FE;\n",
              "      border: none;\n",
              "      border-radius: 50%;\n",
              "      cursor: pointer;\n",
              "      display: none;\n",
              "      fill: #1967D2;\n",
              "      height: 32px;\n",
              "      padding: 0 0 0 0;\n",
              "      width: 32px;\n",
              "    }\n",
              "\n",
              "    .colab-df-convert:hover {\n",
              "      background-color: #E2EBFA;\n",
              "      box-shadow: 0px 1px 2px rgba(60, 64, 67, 0.3), 0px 1px 3px 1px rgba(60, 64, 67, 0.15);\n",
              "      fill: #174EA6;\n",
              "    }\n",
              "\n",
              "    [theme=dark] .colab-df-convert {\n",
              "      background-color: #3B4455;\n",
              "      fill: #D2E3FC;\n",
              "    }\n",
              "\n",
              "    [theme=dark] .colab-df-convert:hover {\n",
              "      background-color: #434B5C;\n",
              "      box-shadow: 0px 1px 3px 1px rgba(0, 0, 0, 0.15);\n",
              "      filter: drop-shadow(0px 1px 2px rgba(0, 0, 0, 0.3));\n",
              "      fill: #FFFFFF;\n",
              "    }\n",
              "  </style>\n",
              "\n",
              "      <script>\n",
              "        const buttonEl =\n",
              "          document.querySelector('#df-74b0a045-c1ee-4aeb-a809-49544c00a5d4 button.colab-df-convert');\n",
              "        buttonEl.style.display =\n",
              "          google.colab.kernel.accessAllowed ? 'block' : 'none';\n",
              "\n",
              "        async function convertToInteractive(key) {\n",
              "          const element = document.querySelector('#df-74b0a045-c1ee-4aeb-a809-49544c00a5d4');\n",
              "          const dataTable =\n",
              "            await google.colab.kernel.invokeFunction('convertToInteractive',\n",
              "                                                     [key], {});\n",
              "          if (!dataTable) return;\n",
              "\n",
              "          const docLinkHtml = 'Like what you see? Visit the ' +\n",
              "            '<a target=\"_blank\" href=https://colab.research.google.com/notebooks/data_table.ipynb>data table notebook</a>'\n",
              "            + ' to learn more about interactive tables.';\n",
              "          element.innerHTML = '';\n",
              "          dataTable['output_type'] = 'display_data';\n",
              "          await google.colab.output.renderOutput(dataTable, element);\n",
              "          const docLink = document.createElement('div');\n",
              "          docLink.innerHTML = docLinkHtml;\n",
              "          element.appendChild(docLink);\n",
              "        }\n",
              "      </script>\n",
              "    </div>\n",
              "  </div>\n",
              "  "
            ]
          },
          "metadata": {},
          "execution_count": 236
        }
      ]
    },
    {
      "cell_type": "markdown",
      "source": [
        "**STATS**"
      ],
      "metadata": {
        "id": "OS0Cxg6SZI1q"
      }
    },
    {
      "cell_type": "code",
      "source": [
        "sns.barplot(x=y['Bowler'],y=y['wicket'],palette='rocket',saturation=1)"
      ],
      "metadata": {
        "colab": {
          "base_uri": "https://localhost:8080/",
          "height": 296
        },
        "id": "czDK4yE5YgOs",
        "outputId": "6c4cdb05-3432-4455-a0c5-f20ae3157dd2"
      },
      "execution_count": null,
      "outputs": [
        {
          "output_type": "execute_result",
          "data": {
            "text/plain": [
              "<matplotlib.axes._subplots.AxesSubplot at 0x7f76e2161c50>"
            ]
          },
          "metadata": {},
          "execution_count": 239
        },
        {
          "output_type": "display_data",
          "data": {
            "text/plain": [
              "<Figure size 432x288 with 1 Axes>"
            ],
            "image/png": "[encoded data removed]"
          },
          "metadata": {
            "needs_background": "light"
          }
        }
      ]
    },
    {
      "cell_type": "markdown",
      "source": [
        "**LUCKY STADIUM FOR THE TOP MOST TEAM**"
      ],
      "metadata": {
        "id": "gj2DM6Mo_uNE"
      }
    },
    {
      "cell_type": "code",
      "source": [
        "def lucky(matches_df,team_name):\n",
        "    return matches_df[matches_df['WinningTeam']==team_name]['Venue'].value_counts().nlargest(3)\n",
        "ax = plt.axes()\n",
        "ax.set(facecolor = \"white\")\n",
        "\n",
        "sns.set(palette=\"Blues_r\",style='darkgrid')\n",
        "lucky(matches_df,'Gujarat Titans').plot(kind='bar')"
      ],
      "metadata": {
        "id": "LpttMDaiZjv5",
        "colab": {
          "base_uri": "https://localhost:8080/",
          "height": 537
        },
        "outputId": "574dd303-1df0-45da-a0d3-aac4435ad1cd"
      },
      "execution_count": 66,
      "outputs": [
        {
          "output_type": "execute_result",
          "data": {
            "text/plain": [
              "<matplotlib.axes._subplots.AxesSubplot at 0x7f25f6b519d0>"
            ]
          },
          "metadata": {},
          "execution_count": 66
        },
        {
          "output_type": "display_data",
          "data": {
            "text/plain": [
              "<Figure size 432x288 with 1 Axes>"
            ],
            "image/png": "[encoded data removed]"
          },
          "metadata": {}
        }
      ]
    }
  ]
}